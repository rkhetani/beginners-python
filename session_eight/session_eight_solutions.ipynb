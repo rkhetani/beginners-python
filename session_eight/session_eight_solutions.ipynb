{
 "cells": [
  {
   "cell_type": "markdown",
   "metadata": {},
   "source": [
    "<a href=\"https://colab.research.google.com/github/rkhetani/beginners-python/blob/master/session_eight/session_eight_solutions.ipynb\" target=\"_parent\"><img src=\"https://colab.research.google.com/assets/colab-badge.svg\" alt=\"Open In Colab\"/></a>"
   ]
  },
  {
   "cell_type": "markdown",
   "metadata": {},
   "source": [
    "<center>Spotted a mistake? Report it <a href=\"https://github.com/THargreaves/beginners-python/issues/new\">here</a></center>"
   ]
  },
  {
   "cell_type": "markdown",
   "metadata": {},
   "source": [
    "# Beginner's Python—Session Eight Homework Solutions"
   ]
  },
  {
   "cell_type": "markdown",
   "metadata": {},
   "source": [
    "_As we are moving deeper into the world of Python, the tasks we can complete with our skills can become more and more complicated. For that reason, there are fewer exercises to complete this week but of a slightly harder standard. Don't be put off; these are meant to challenge you._"
   ]
  },
  {
   "cell_type": "markdown",
   "metadata": {},
   "source": [
    "## Reading From a Text File"
   ]
  },
  {
   "cell_type": "markdown",
   "metadata": {},
   "source": [
    "Download the text file linked [here](https://gist.githubusercontent.com/kalinchernev/486393efcca01623b18d/raw/daa24c9fea66afb7d68f8d69f0c4b8eeb9406e83/countries), containing a list of of countries and upload this to Colab"
   ]
  },
  {
   "cell_type": "markdown",
   "metadata": {},
   "source": [
    "Import the file as a list"
   ]
  },
  {
   "cell_type": "code",
   "execution_count": 2,
   "metadata": {},
   "outputs": [],
   "source": [
    "with open('countries.txt') as f:\n",
    "    contents = f.read()\n",
    "    countries = contents.split('\\n')"
   ]
  },
  {
   "cell_type": "markdown",
   "metadata": {},
   "source": [
    "Create an empty dictionary `first_letter_counts` to keep track of how many times a country starts with each letter. Loop through the countries, extracting there first letter with `country_name[0]` to populate this dictionary"
   ]
  },
  {
   "cell_type": "code",
   "execution_count": 6,
   "metadata": {},
   "outputs": [],
   "source": [
    "first_letter_counts = {}\n",
    "for country in countries:\n",
    "    first_letter = country[0]\n",
    "    if first_letter in first_letter_counts:\n",
    "        first_letter_counts[first_letter] += 1\n",
    "    else:\n",
    "        first_letter_counts[first_letter] = 1"
   ]
  },
  {
   "cell_type": "markdown",
   "metadata": {},
   "source": [
    "Read the file `heights.csv` from the this session's [resource folder](https://github.com/THargreaves/beginners-python/tree/master/session_eight/resources) into a list of lines. Loop through the each line and run `name, height = line.split(', ')` to extract each value. Use these to create a dictionary mapping people to their height (Note: you'll have to convert the height to an integer or float first)"
   ]
  },
  {
   "cell_type": "code",
   "execution_count": 4,
   "metadata": {},
   "outputs": [],
   "source": [
    "heights = {}\n",
    "with open('resources/heights.csv') as f:\n",
    "    lines = f.read().split('\\n')\n",
    "    for l in lines:\n",
    "        name, height = l.split(', ')\n",
    "        heights[name] = int(height)"
   ]
  },
  {
   "cell_type": "markdown",
   "metadata": {},
   "source": [
    "## Reading Text Files Sequentially"
   ]
  },
  {
   "cell_type": "markdown",
   "metadata": {},
   "source": [
    "Read the first 100 names from [this](https://www.usna.edu/Users/cs/roche/courses/s15si335/proj1/files.php%3Ff=names.txt&downloadcode=yes) list of names. Append these to a list called `names`"
   ]
  },
  {
   "cell_type": "code",
   "execution_count": 13,
   "metadata": {},
   "outputs": [],
   "source": [
    "names = []\n",
    "with open('names.txt') as f:\n",
    "    for i in range(100):\n",
    "        name = f.readline().replace('\\n', '')\n",
    "        names.append(name)"
   ]
  },
  {
   "cell_type": "markdown",
   "metadata": {},
   "source": [
    "## Writing to Text Files"
   ]
  },
  {
   "cell_type": "markdown",
   "metadata": {},
   "source": [
    "Take the names list above and loop through it, writing the reverse of each name to a new file `reversed_names.txt`. Remember, you can reverse a string using `my_string[::-1]`"
   ]
  },
  {
   "cell_type": "code",
   "execution_count": 14,
   "metadata": {},
   "outputs": [],
   "source": [
    "with open('reversed_names.txt', 'w') as f:\n",
    "    for name in names:\n",
    "        f.write(name[::-1] + '\\n')"
   ]
  },
  {
   "cell_type": "markdown",
   "metadata": {},
   "source": [
    "Append the reverse of your name to this list"
   ]
  },
  {
   "cell_type": "code",
   "execution_count": 15,
   "metadata": {},
   "outputs": [],
   "source": [
    "with open('reversed_names.txt', 'w') as f:\n",
    "    f.write('miT')"
   ]
  },
  {
   "cell_type": "markdown",
   "metadata": {},
   "source": [
    "Create a list of square numbers called `squares`, stored as strings. Write this to `squares.txt` without using a loop by using `'\\n'.join(squares)`"
   ]
  },
  {
   "cell_type": "code",
   "execution_count": 17,
   "metadata": {},
   "outputs": [],
   "source": [
    "squares = []\n",
    "for n in range(1, 10):\n",
    "    squares.append(str(n ** 2))\n",
    "\n",
    "with open('squares.txt', 'w') as f:\n",
    "    f.write('\\n'.join(squares))"
   ]
  },
  {
   "cell_type": "markdown",
   "metadata": {},
   "source": [
    "## Raising Errors"
   ]
  },
  {
   "cell_type": "markdown",
   "metadata": {},
   "source": [
    "Have a scan through [this list](https://www.tutorialsteacher.com/python/error-types-in-python) of the standard error types in Python. Remember, it is also possible to define your own errors, though this is out of scope for this course"
   ]
  },
  {
   "cell_type": "markdown",
   "metadata": {},
   "source": [
    "Create a function called `contains_z()`. This should accept an argument, check that it's a string (else raise a `TypeError`) and then return whether the input contained the letter 'z'"
   ]
  },
  {
   "cell_type": "code",
   "execution_count": 21,
   "metadata": {},
   "outputs": [
    {
     "name": "stdout",
     "output_type": "stream",
     "text": [
      "False\n",
      "True\n"
     ]
    }
   ],
   "source": [
    "def contains_z(text):\n",
    "    if not isinstance(text, str):\n",
    "        raise TypeError(\"input must be a string\")\n",
    "    return 'z' in text or 'Z' in text\n",
    "    # or: return 'z' in text.lower()\n",
    "\n",
    "print(contains_z('Apple'))\n",
    "print(contains_z('Zucchini'))"
   ]
  },
  {
   "cell_type": "markdown",
   "metadata": {},
   "source": [
    "Create a function `divide(a, b)` which divides two floats `a` by `b`, with `b` defaulting to one. First check that these are indeed both floats, else raise a `TypeError`. Then, check that `b` is non-zero else raise a `ValueError` with message \"cannot divide by zero\". If both these conditions are met, return `a / b`"
   ]
  },
  {
   "cell_type": "code",
   "execution_count": 22,
   "metadata": {},
   "outputs": [],
   "source": [
    "def divide(a, b=1.0):\n",
    "    if not isinstance(a, float) or not isinstance(b, float):\n",
    "        raise TypeError(\"inputs must be floats\")\n",
    "    if not b != 0:\n",
    "        raise ValueError(\"cannot divide by zero\")\n",
    "    return a / b"
   ]
  },
  {
   "cell_type": "markdown",
   "metadata": {},
   "source": [
    "## Built-in Modules"
   ]
  },
  {
   "cell_type": "markdown",
   "metadata": {},
   "source": [
    "Use the `time` function from the `time` module to time how many seconds it takes to run the following function on your computer (hint: before running the function, store the starting time in a variable `start` and compare this to the time at the end)"
   ]
  },
  {
   "cell_type": "code",
   "execution_count": 27,
   "metadata": {},
   "outputs": [],
   "source": [
    "def long_running_func():\n",
    "    n = 2\n",
    "    for __ in range(10 ** 6):\n",
    "        n = n ** 1000 % (10 * 9)"
   ]
  },
  {
   "cell_type": "code",
   "execution_count": 28,
   "metadata": {},
   "outputs": [
    {
     "name": "stdout",
     "output_type": "stream",
     "text": [
      "Function ran in 7 seconds\n"
     ]
    }
   ],
   "source": [
    "from time import time\n",
    "\n",
    "start = time()\n",
    "long_running_func()\n",
    "end = time()\n",
    "print(\"Function ran in\", \n",
    "      round(end - start),\n",
    "      \"seconds\")"
   ]
  },
  {
   "cell_type": "markdown",
   "metadata": {},
   "source": [
    "Search for the documentation on `random.choice`. Use this to select a random name from the list defined above"
   ]
  },
  {
   "cell_type": "code",
   "execution_count": 29,
   "metadata": {},
   "outputs": [
    {
     "name": "stdout",
     "output_type": "stream",
     "text": [
      "Christine\n"
     ]
    }
   ],
   "source": [
    "import random\n",
    "\n",
    "random_name = random.choice(names)\n",
    "print(random_name)"
   ]
  },
  {
   "cell_type": "markdown",
   "metadata": {},
   "source": [
    "Import `random` from `random` as `rnd`. Use this to create a function `biased_coin_flip(p)` which simulates a coin having probablity $0 < p < 1$ of coming up heads. First check that `p` is a float and between zero and one. Then compare `rnd()` to `p`. If `rnd()` is the smaller of the two, return \"Heads\", else return \"Tails\""
   ]
  },
  {
   "cell_type": "code",
   "execution_count": 30,
   "metadata": {},
   "outputs": [],
   "source": [
    "from random import random as rnd\n",
    "\n",
    "def biased_coin_flip(p):\n",
    "    if not isinstance(p, float):\n",
    "        raise TypeError(\"p must be a float\")\n",
    "    if not 0 < p < 1:\n",
    "        raise ValueError(\"p must be between 0 and 1\")\n",
    "    \n",
    "    if rnd() < p:\n",
    "        return \"Heads\"\n",
    "    else:\n",
    "        return \"Tails\""
   ]
  },
  {
   "cell_type": "markdown",
   "metadata": {},
   "source": [
    "Run the above functions a few times to verify that it is biased"
   ]
  },
  {
   "cell_type": "code",
   "execution_count": 34,
   "metadata": {},
   "outputs": [
    {
     "name": "stdout",
     "output_type": "stream",
     "text": [
      "Heads\n",
      "Heads\n",
      "Tails\n",
      "Heads\n",
      "Heads\n",
      "Tails\n",
      "Heads\n",
      "Tails\n",
      "Heads\n",
      "Heads\n"
     ]
    }
   ],
   "source": [
    "for i in range(10):\n",
    "    print(biased_coin_flip(0.8))"
   ]
  },
  {
   "cell_type": "markdown",
   "metadata": {},
   "source": [
    "Pat yourself on the back. You've made it to the end!"
   ]
  }
 ],
 "metadata": {
  "kernelspec": {
   "display_name": "Python 3",
   "language": "python",
   "name": "python3"
  },
  "language_info": {
   "codemirror_mode": {
    "name": "ipython",
    "version": 3
   },
   "file_extension": ".py",
   "mimetype": "text/x-python",
   "name": "python",
   "nbconvert_exporter": "python",
   "pygments_lexer": "ipython3",
   "version": "3.7.3"
  }
 },
 "nbformat": 4,
 "nbformat_minor": 2
}
