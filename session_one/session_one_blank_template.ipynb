{
  "cells": [
    {
      "cell_type": "markdown",
      "metadata": {
        "id": "view-in-github",
        "colab_type": "text"
      },
      "source": [
        "<a href=\"https://colab.research.google.com/github/rkhetani/beginners-python/blob/master/session_one/session_one_blank_template.ipynb\" target=\"_parent\"><img src=\"https://colab.research.google.com/assets/colab-badge.svg\" alt=\"Open In Colab\"/></a>"
      ]
    },
    {
      "cell_type": "markdown",
      "metadata": {
        "id": "6EEIWBSfGF3w"
      },
      "source": [
        "<center>Spotted a mistake? Report it <a href=\"https://github.com/THargreaves/beginners-python/issues/new\">here</a></center>"
      ]
    },
  {
      "cell_type": "markdown",
      "metadata": {
        "id": "PeaJNj2nB6TT"
      },
      "source": [
        "# Beginner's Python—Session One Template"
      ]
    },
    {
      "cell_type": "markdown",
      "source": [
        "## Python as a Fancy Calculator"
      ],
      "metadata": {
        "id": "o_3OriDbE5aM"
      }
    },
    {
      "cell_type": "code",
      "source": [],
      "metadata": {
        "id": "IZA9BN5mE_AM"
      },
      "execution_count": null,
      "outputs": []
    },
    {
      "cell_type": "markdown",
      "metadata": {
        "id": "-Ceh1HnZIsVO"
      },
      "source": [
        "## Printing"
      ]
    },
    {
      "cell_type": "markdown",
      "metadata": {
        "id": "6AZ6H-6jKoSt"
      },
      "source": [
        "### Introduction\n"
      ]
    },
    {
      "cell_type": "markdown",
      "metadata": {
        "id": "_e1jtH-uB6TU"
      },
      "source": [
        "Printing \"I love python\""
      ]
    },
    {
      "cell_type": "code",
      "execution_count": null,
      "metadata": {
        "id": "D4l_2DsZIlgB"
      },
      "outputs": [],
      "source": []
    },
    {
      "cell_type": "markdown",
      "source": [
        "Printing with non-string arguments"
      ],
      "metadata": {
        "id": "2t1MhAvCFj7H"
      }
    },
    {
      "cell_type": "code",
      "execution_count": null,
      "metadata": {
        "id": "bIr0l5kJI_VV"
      },
      "outputs": [],
      "source": []
    },
    {
      "cell_type": "code",
      "source": [],
      "metadata": {
        "id": "Q3sb73X7FpYj"
      },
      "execution_count": null,
      "outputs": []
    },
    {
      "cell_type": "code",
      "source": [],
      "metadata": {
        "id": "-8L_GuHYFphf"
      },
      "execution_count": null,
      "outputs": []
    },
    {
      "cell_type": "markdown",
      "source": [
        "Printing with multiple arguments"
      ],
      "metadata": {
        "id": "2ftt0gnzFvws"
      }
    },
    {
      "cell_type": "code",
      "source": [],
      "metadata": {
        "id": "g3KyECeaFy_e"
      },
      "execution_count": null,
      "outputs": []
    },
    {
      "cell_type": "code",
      "source": [],
      "metadata": {
        "id": "kWb_3AkEFzEV"
      },
      "execution_count": null,
      "outputs": []
    },
    {
      "cell_type": "markdown",
      "metadata": {
        "id": "Pn-nKwP-B6TV"
      },
      "source": [
        "### Printing Puzzles"
      ]
    },
    {
      "cell_type": "markdown",
      "metadata": {
        "id": "JxyXrPT2B6TV"
      },
      "source": [
        "Print your three favourite colours"
      ]
    },
    {
      "cell_type": "code",
      "execution_count": null,
      "metadata": {
        "id": "jFKifgNAB6TV"
      },
      "outputs": [],
      "source": []
    },
    {
      "cell_type": "markdown",
      "metadata": {
        "id": "tdGUH3sSB6TV"
      },
      "source": [
        "Calculate $26\\times66+13$"
      ]
    },
    {
      "cell_type": "code",
      "execution_count": null,
      "metadata": {
        "id": "OM_JAQmgB6TV"
      },
      "outputs": [],
      "source": []
    },
    {
      "cell_type": "code",
      "source": [],
      "metadata": {
        "id": "cqMK8khyF6s8"
      },
      "execution_count": null,
      "outputs": []
    },
    {
      "cell_type": "markdown",
      "metadata": {
        "id": "j9Rds33BB6TV"
      },
      "source": [
        "Calculate $6804 \\div 162$"
      ]
    },
    {
      "cell_type": "code",
      "execution_count": null,
      "metadata": {
        "id": "ro9acgFIB6TV"
      },
      "outputs": [],
      "source": []
    },
    {
      "cell_type": "markdown",
      "metadata": {
        "id": "ZOxy9D_WB6TV"
      },
      "source": [
        "### Bonus Puzzles"
      ]
    },
    {
      "cell_type": "markdown",
      "metadata": {
        "id": "CpXH0zaGB6TV"
      },
      "source": [
        "Calculate $2^8$"
      ]
    },
    {
      "cell_type": "code",
      "execution_count": null,
      "metadata": {
        "id": "787Lo4u6B6TV"
      },
      "outputs": [],
      "source": []
    },
    {
      "cell_type": "markdown",
      "metadata": {
        "id": "5vcp8SQFB6TV"
      },
      "source": [
        "What happens if you put a mathematical expression in double quotes when you are printing?"
      ]
    },
    {
      "cell_type": "code",
      "execution_count": null,
      "metadata": {
        "id": "ofle-XZUB6TW"
      },
      "outputs": [],
      "source": [
        "# try it on the next line and then write your answer in the next cell\n"
      ]
    },
    {
      "cell_type": "markdown",
      "metadata": {
        "id": "gqAQBmpRB6TW"
      },
      "source": []
    },
    {
      "cell_type": "markdown",
      "metadata": {
        "id": "YSLCV8UmB6TW"
      },
      "source": [
        "Calculate $6804\\div162$ using integer division"
      ]
    },
    {
      "cell_type": "code",
      "execution_count": null,
      "metadata": {
        "id": "3EfkFDYWB6TW"
      },
      "outputs": [],
      "source": []
    },
    {
      "cell_type": "markdown",
      "metadata": {
        "id": "_t5oJPdOB6TW"
      },
      "source": [
        "## Variables"
      ]
    },
    {
      "cell_type": "markdown",
      "metadata": {
        "id": "-k7oeT0nB6TW"
      },
      "source": [
        "### Introduction"
      ]
    },
    {
      "cell_type": "markdown",
      "metadata": {
        "id": "D83xbqZpB6TW"
      },
      "source": [
        "Create two variables, storing your name and age"
      ]
    },
    {
      "cell_type": "code",
      "execution_count": null,
      "metadata": {
        "id": "zANmIT5vB6TW"
      },
      "outputs": [],
      "source": []
    },
    {
      "cell_type": "code",
      "execution_count": null,
      "metadata": {
        "id": "L2-l9UmuB6TW"
      },
      "outputs": [],
      "source": []
    },
    {
      "cell_type": "code",
      "source": [],
      "metadata": {
        "id": "Nqp6X2ZjGFDF"
      },
      "execution_count": null,
      "outputs": []
    },
    {
      "cell_type": "markdown",
      "source": [
        "Why use variables?"
      ],
      "metadata": {
        "id": "R5YNQrRYGHol"
      }
    },
    {
      "cell_type": "code",
      "source": [],
      "metadata": {
        "id": "iyahXBj_GJ7c"
      },
      "execution_count": null,
      "outputs": []
    },
    {
      "cell_type": "code",
      "source": [],
      "metadata": {
        "id": "-HAvgfyYGLRE"
      },
      "execution_count": null,
      "outputs": []
    },
    {
      "cell_type": "markdown",
      "metadata": {
        "id": "n-UhAdF7B6TW"
      },
      "source": [
        "### Standard Puzzles"
      ]
    },
    {
      "cell_type": "markdown",
      "metadata": {
        "id": "bIBqJcddB6TW"
      },
      "source": [
        "Create apprpriate name and age variables and use them to print a sentence"
      ]
    },
    {
      "cell_type": "code",
      "execution_count": null,
      "metadata": {
        "id": "HoN3uXmYB6TW"
      },
      "outputs": [],
      "source": []
    },
    {
      "cell_type": "markdown",
      "metadata": {
        "id": "YTj181IpB6TX"
      },
      "source": [
        "Print what your age will be in 5 year's time as a sentence"
      ]
    },
    {
      "cell_type": "code",
      "execution_count": null,
      "metadata": {
        "id": "bM9oba8pB6TX"
      },
      "outputs": [],
      "source": []
    },
    {
      "cell_type": "markdown",
      "metadata": {
        "id": "pL3nu4LeB6TX"
      },
      "source": [
        "Create a variable with value $n$ the print $n$, $2n$, and $n-1$. Give the variable a new value and reprint these values. How did using variables make this easier?"
      ]
    },
    {
      "cell_type": "code",
      "execution_count": null,
      "metadata": {
        "id": "Is4FuU_1B6TX"
      },
      "outputs": [],
      "source": [
        "\n"
      ]
    },
    {
      "cell_type": "markdown",
      "metadata": {
        "id": "d4xZnZmdB6TX"
      },
      "source": [
        "## Manipulating Variables"
      ]
    },
    {
      "cell_type": "markdown",
      "metadata": {
        "id": "ArHfkNLJB6TX"
      },
      "source": [
        "### Introduction"
      ]
    },
    {
      "cell_type": "markdown",
      "metadata": {
        "id": "PyRvHx3-B6TX"
      },
      "source": [
        "Overwrite the value of a variable"
      ]
    },
    {
      "cell_type": "code",
      "execution_count": null,
      "metadata": {
        "id": "8Zj9KT1NB6TX"
      },
      "outputs": [],
      "source": []
    },
    {
      "cell_type": "markdown",
      "metadata": {
        "id": "LXHgBYFbB6TX"
      },
      "source": [
        "Create a new variable based on the value of another variable"
      ]
    },
    {
      "cell_type": "code",
      "execution_count": null,
      "metadata": {
        "id": "dbuHEqSsB6TX"
      },
      "outputs": [],
      "source": []
    },
    {
      "cell_type": "markdown",
      "metadata": {
        "id": "sE4-HbQOB6TX"
      },
      "source": [
        "Overwrite a variable with a new value based on its current value"
      ]
    },
    {
      "cell_type": "code",
      "execution_count": null,
      "metadata": {
        "id": "4cf_8vftB6TX"
      },
      "outputs": [],
      "source": []
    },
    {
      "cell_type": "markdown",
      "metadata": {
        "id": "1_kGv2hdB6TX"
      },
      "source": [
        "### Standard Puzzles"
      ]
    },
    {
      "cell_type": "markdown",
      "metadata": {
        "id": "N6HBVrHnB6TX"
      },
      "source": [
        "What do you think the value of `y` will be in the presentation code?"
      ]
    },
    {
      "cell_type": "markdown",
      "metadata": {
        "id": "ragoVrX4B6TY"
      },
      "source": []
    },
    {
      "cell_type": "markdown",
      "metadata": {
        "id": "6LJBN4mbB6TY"
      },
      "source": [
        "## Variable Types"
      ]
    },
    {
      "cell_type": "markdown",
      "metadata": {
        "id": "x_cSa9KjB6TY"
      },
      "source": [
        "### Introduction"
      ]
    },
    {
      "cell_type": "markdown",
      "metadata": {
        "id": "94MdsnrZB6TY"
      },
      "source": [
        "Create one variable for each of the types integer, float, and string. Check their types using the `type()` function"
      ]
    },
    {
      "cell_type": "code",
      "execution_count": null,
      "metadata": {
        "id": "vTabHMiTB6TY"
      },
      "outputs": [],
      "source": []
    },
    {
      "cell_type": "markdown",
      "metadata": {
        "id": "eBPIDfYdB6TY"
      },
      "source": [
        "Create a string variable that contains the digits of a number. Create a new variable by converting this string to an integer. Print the types of both variables"
      ]
    },
    {
      "cell_type": "code",
      "execution_count": null,
      "metadata": {
        "id": "Hsk_Xwh3B6Ta"
      },
      "outputs": [],
      "source": []
    },
    {
      "cell_type": "markdown",
      "metadata": {
        "id": "nlIB8k_PB6Ta"
      },
      "source": [
        "### Standard Puzzles"
      ]
    },
    {
      "cell_type": "markdown",
      "metadata": {
        "id": "nNeGg6uJB6Tb"
      },
      "source": [
        "Define the variables `x`, `y`, and `z` as in the presentation. What are their types?"
      ]
    },
    {
      "cell_type": "code",
      "execution_count": null,
      "metadata": {
        "id": "TIu5ltF9B6Tb"
      },
      "outputs": [],
      "source": []
    },
    {
      "cell_type": "markdown",
      "metadata": {
        "id": "nnl6pGD1B6Tb"
      },
      "source": [
        "Add two string variables together and print the result"
      ]
    },
    {
      "cell_type": "code",
      "execution_count": null,
      "metadata": {
        "id": "K96IWLR-B6Tb"
      },
      "outputs": [],
      "source": [
        "\n"
      ]
    },
    {
      "cell_type": "markdown",
      "metadata": {
        "id": "mXf4mmr6B6Tb"
      },
      "source": [
        "### Bonus Puzzles"
      ]
    },
    {
      "cell_type": "markdown",
      "metadata": {
        "id": "oJOkt0mUB6Tb"
      },
      "source": [
        "What happens if we omit don't wrap `type()` in `print()`?"
      ]
    },
    {
      "cell_type": "code",
      "source": [],
      "metadata": {
        "id": "2X_qfnK1LWQe"
      },
      "execution_count": null,
      "outputs": []
    },
    {
      "cell_type": "markdown",
      "metadata": {
        "id": "vj8Bhpk0B6Tb"
      },
      "source": [
        "Try multiplying a string by an integer. What happens?"
      ]
    },
    {
      "cell_type": "code",
      "execution_count": null,
      "metadata": {
        "id": "AX2eneq7B6Tc"
      },
      "outputs": [],
      "source": []
    },
    {
      "cell_type": "markdown",
      "metadata": {
        "id": "6efHreCaB6Tc"
      },
      "source": [
        "## More Variable Puzzles"
      ]
    },
    {
      "cell_type": "markdown",
      "metadata": {
        "id": "Jtn2aSRdB6Tc"
      },
      "source": [
        "### Standard Puzzles"
      ]
    },
    {
      "cell_type": "markdown",
      "metadata": {
        "id": "NoG4AW0KB6Tc"
      },
      "source": [
        "Create variables `pi` and `radius`"
      ]
    },
    {
      "cell_type": "code",
      "execution_count": null,
      "metadata": {
        "id": "OSps89EUB6Tc"
      },
      "outputs": [],
      "source": []
    },
    {
      "cell_type": "markdown",
      "metadata": {
        "id": "LTrESg2RB6Tc"
      },
      "source": [
        "Use these to print the area and circumference of the corresponding circle. Remember $A=\\pi r^2$ and $C = 2\\pi r$"
      ]
    },
    {
      "cell_type": "code",
      "execution_count": null,
      "metadata": {
        "id": "LiDVthgpB6Tc"
      },
      "outputs": [],
      "source": []
    },
    {
      "cell_type": "markdown",
      "metadata": {
        "id": "m6mF8SENB6Tc"
      },
      "source": [
        "### Bonus Puzzles"
      ]
    },
    {
      "cell_type": "markdown",
      "metadata": {
        "id": "YydOz9B5B6Td"
      },
      "source": [
        "Repeat the above exercise using the `round()` function"
      ]
    },
    {
      "cell_type": "code",
      "execution_count": null,
      "metadata": {
        "id": "-0gjOd34B6Td"
      },
      "outputs": [],
      "source": []
    }
  ],
  "metadata": {
    "colab": {
      "name": "Code Club Session 1",
      "provenance": []
    },
    "kernelspec": {
      "display_name": "Python 3",
      "language": "python",
      "name": "python3"
    },
    "language_info": {
      "codemirror_mode": {
        "name": "ipython",
        "version": 3
      },
      "file_extension": ".py",
      "mimetype": "text/x-python",
      "name": "python",
      "nbconvert_exporter": "python",
      "pygments_lexer": "ipython3",
      "version": "3.7.3"
    }
  },
  "nbformat": 4,
  "nbformat_minor": 0
}
