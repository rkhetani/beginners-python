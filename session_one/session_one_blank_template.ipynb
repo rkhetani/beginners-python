{
  "cells": [
    {
      "cell_type": "markdown",
      "metadata": {
        "id": "view-in-github",
        "colab_type": "text"
      },
      "source": [
        "<a href=\"https://colab.research.google.com/github/rkhetani/beginners-python/blob/master/session_one/session_one_blank_template.ipynb\" target=\"_parent\"><img src=\"https://colab.research.google.com/assets/colab-badge.svg\" alt=\"Open In Colab\"/></a>"
      ]
    },
    {
      "cell_type": "markdown",
      "metadata": {
        "id": "6EEIWBSfGF3w"
      },
      "source": [
        "<center>Spotted a mistake? Report it <a href=\"https://github.com/THargreaves/beginners-python/issues/new\">here</a></center>"
      ]
    },
    {
      "cell_type": "markdown",
      "metadata": {
        "id": "J-qk1KKfGF3x"
      },
      "source": [
        "# Beginner's Python—Session One Template"
      ]
    },
    {
      "cell_type": "markdown",
      "metadata": {
        "id": "-Ceh1HnZIsVO"
      },
      "source": [
        "## Printing"
      ]
    },
    {
      "cell_type": "markdown",
      "metadata": {
        "id": "6AZ6H-6jKoSt"
      },
      "source": [
        "### Introduction\n"
      ]
    },
    {
      "cell_type": "markdown",
      "metadata": {
        "id": "1IzTYpibGF3z"
      },
      "source": [
        "Get Python to print \"Hello World\" :) :) :)"
      ]
    },
    {
      "cell_type": "code",
      "execution_count": null,
      "metadata": {
        "id": "D4l_2DsZIlgB"
      },
      "outputs": [],
      "source": []
    },
    {
      "cell_type": "code",
      "metadata": {
        "id": "9lLW387eKgNN"
      },
      "source": [
        "Print the number 5"
      ],
      "execution_count": null,
      "outputs": []
    },
    {
      "cell_type": "code",
      "execution_count": null,
      "metadata": {
        "id": "bIr0l5kJI_VV"
      },
      "outputs": [],
      "source": []
    },
    {
      "cell_type": "markdown",
      "metadata": {
        "id": "Y9-eNfhwGF32"
      },
      "source": [
        "Print the product of 5 and 10"
      ]
    },
    {
      "cell_type": "code",
      "execution_count": null,
      "metadata": {
        "id": "5IdKyPEKGF32"
      },
      "outputs": [],
      "source": []
    },
    {
      "cell_type": "markdown",
      "metadata": {
        "id": "hIRyH9rrGF32"
      },
      "source": [
        "Print both text and arithmetic"
      ]
    },
    {
      "cell_type": "code",
      "execution_count": null,
      "metadata": {
        "id": "aLtEt6wcGF33"
      },
      "outputs": [],
      "source": []
    },
    {
      "cell_type": "markdown",
      "metadata": {
        "id": "SIO2x-fsGF33"
      },
      "source": [
        "### Standard Puzzles"
      ]
    },
    {
      "cell_type": "markdown",
      "metadata": {
        "id": "Vu9qlcb4GF33"
      },
      "source": [
        "Print your name using the print command"
      ]
    },
    {
      "cell_type": "code",
      "execution_count": null,
      "metadata": {
        "id": "qL68S_CRGF33"
      },
      "outputs": [],
      "source": []
    },
    {
      "cell_type": "markdown",
      "metadata": {
        "id": "it1HTg_FGF33"
      },
      "source": [
        "Print your three favourite colours"
      ]
    },
    {
      "cell_type": "code",
      "execution_count": null,
      "metadata": {
        "id": "QhvPV6pYGF34"
      },
      "outputs": [],
      "source": []
    },
    {
      "cell_type": "markdown",
      "metadata": {
        "id": "lHaFdqlJGF34"
      },
      "source": [
        "Calculate $26\\times66+13$"
      ]
    },
    {
      "cell_type": "code",
      "execution_count": null,
      "metadata": {
        "id": "1_-PWbSiGF34"
      },
      "outputs": [],
      "source": []
    },
    {
      "cell_type": "markdown",
      "metadata": {
        "id": "km-FbuIfGF34"
      },
      "source": [
        "Calculate $6804 \\div 162$"
      ]
    },
    {
      "cell_type": "code",
      "execution_count": null,
      "metadata": {
        "id": "3YAPtV57GF34"
      },
      "outputs": [],
      "source": []
    },
    {
      "cell_type": "markdown",
      "metadata": {
        "id": "HxZks7mUGF34"
      },
      "source": [
        "### Bonus Puzzles"
      ]
    },
    {
      "cell_type": "markdown",
      "metadata": {
        "id": "n9VKdFKGGF34"
      },
      "source": [
        "Calculate $2^8$"
      ]
    },
    {
      "cell_type": "code",
      "execution_count": null,
      "metadata": {
        "id": "iCq3hYjOGF34"
      },
      "outputs": [],
      "source": []
    },
    {
      "cell_type": "markdown",
      "metadata": {
        "id": "eEldcYtcGF34"
      },
      "source": [
        "What happens if you put a mathematical expression in double quotes when you are printing?"
      ]
    },
    {
      "cell_type": "code",
      "execution_count": null,
      "metadata": {
        "id": "tmYdfLApGF34"
      },
      "outputs": [],
      "source": [
        "# try it on the next line and then write your answer in the next cell\n"
      ]
    },
    {
      "cell_type": "markdown",
      "metadata": {
        "id": "ghNIoNljGF35"
      },
      "source": []
    },
    {
      "cell_type": "markdown",
      "metadata": {
        "id": "pgoQzXmmGF35"
      },
      "source": [
        "Calculate $6804\\div162$ using integer division"
      ]
    },
    {
      "cell_type": "code",
      "execution_count": null,
      "metadata": {
        "id": "gfdngknJGF35"
      },
      "outputs": [],
      "source": []
    },
    {
      "cell_type": "markdown",
      "metadata": {
        "id": "iEXbgdckGF35"
      },
      "source": [
        "## Variables"
      ]
    },
    {
      "cell_type": "markdown",
      "metadata": {
        "id": "HG0IxlWJGF35"
      },
      "source": [
        "### Introduction"
      ]
    },
    {
      "cell_type": "markdown",
      "metadata": {
        "id": "J1cFQ1vDGF35"
      },
      "source": [
        "Create two variables, storing your name and age"
      ]
    },
    {
      "cell_type": "code",
      "execution_count": null,
      "metadata": {
        "id": "fAOwRU-wGF35"
      },
      "outputs": [],
      "source": []
    },
    {
      "cell_type": "markdown",
      "metadata": {
        "id": "aV5w_egXGF35"
      },
      "source": [
        "Create a variable containing your favourite food and print this as a sentence"
      ]
    },
    {
      "cell_type": "code",
      "execution_count": null,
      "metadata": {
        "id": "gonqcf--GF35"
      },
      "outputs": [],
      "source": []
    },
    {
      "cell_type": "markdown",
      "metadata": {
        "id": "OnHOAmoSGF35"
      },
      "source": [
        "### Standard Puzzles"
      ]
    },
    {
      "cell_type": "markdown",
      "metadata": {
        "id": "45YpeqaJGF36"
      },
      "source": [
        "Use the name and age variables from above to print a sentence"
      ]
    },
    {
      "cell_type": "code",
      "execution_count": null,
      "metadata": {
        "id": "lnSo8NyPGF36"
      },
      "outputs": [],
      "source": []
    },
    {
      "cell_type": "markdown",
      "metadata": {
        "id": "o8eTItdxGF3-"
      },
      "source": [
        "### Bonus Puzzles"
      ]
    },
    {
      "cell_type": "markdown",
      "metadata": {
        "id": "GgMAMo6SGF3-"
      },
      "source": [
        "Print what your age will be in 5 year's time as a sentence"
      ]
    },
    {
      "cell_type": "code",
      "execution_count": null,
      "metadata": {
        "id": "kB-4VX_qGF3-"
      },
      "outputs": [],
      "source": []
    },
    {
      "cell_type": "markdown",
      "metadata": {
        "id": "sH98IbavGF3-"
      },
      "source": [
        "Create a variable with value $n$ the print $n$, $2n$, and $n-1$. Give the variable a new value and reprint these values. How did using variables make this easier?"
      ]
    },
    {
      "cell_type": "code",
      "execution_count": null,
      "metadata": {
        "id": "kKDSxp6SGF3_"
      },
      "outputs": [],
      "source": [
        "# write your code in this cell and answer in the next cell\n"
      ]
    },
    {
      "cell_type": "markdown",
      "metadata": {
        "id": "q9xge_2DGF3_"
      },
      "source": []
    },
    {
      "cell_type": "markdown",
      "metadata": {
        "id": "SNv2of_OGF3_"
      },
      "source": [
        "## Manipulating Variables"
      ]
    },
    {
      "cell_type": "markdown",
      "metadata": {
        "id": "1Y0thlQOGF3_"
      },
      "source": [
        "### Introduction"
      ]
    },
    {
      "cell_type": "markdown",
      "metadata": {
        "id": "Y8ovs77wGF3_"
      },
      "source": [
        "Overwrite the value of a variable"
      ]
    },
    {
      "cell_type": "code",
      "execution_count": null,
      "metadata": {
        "id": "_GhW0PtuGF3_"
      },
      "outputs": [],
      "source": []
    },
    {
      "cell_type": "markdown",
      "metadata": {
        "id": "HMNZXSV3GF3_"
      },
      "source": [
        "Create a new variable based on the value of another variable"
      ]
    },
    {
      "cell_type": "code",
      "execution_count": null,
      "metadata": {
        "id": "j-yWIleJGF3_"
      },
      "outputs": [],
      "source": []
    },
    {
      "cell_type": "markdown",
      "metadata": {
        "id": "ceJbG2rYGF3_"
      },
      "source": [
        "Overwrite a variable with a new value based on its current value"
      ]
    },
    {
      "cell_type": "code",
      "execution_count": null,
      "metadata": {
        "id": "CxmQy7VxGF3_"
      },
      "outputs": [],
      "source": []
    },
    {
      "cell_type": "markdown",
      "metadata": {
        "id": "feJbZz_vGF4A"
      },
      "source": [
        "### Standard Puzzles"
      ]
    },
    {
      "cell_type": "markdown",
      "metadata": {
        "id": "1ud5sTp-GF4A"
      },
      "source": [
        "What do you think the value of `y` will be in the presentation code?"
      ]
    },
    {
      "cell_type": "markdown",
      "metadata": {
        "id": "_1ABVRKDGF4A"
      },
      "source": []
    },
    {
      "cell_type": "markdown",
      "metadata": {
        "id": "xaa399eZGF4A"
      },
      "source": [
        "## Variable Types"
      ]
    },
    {
      "cell_type": "markdown",
      "metadata": {
        "id": "J-t-DA-rGF4A"
      },
      "source": [
        "### Introduction"
      ]
    },
    {
      "cell_type": "markdown",
      "metadata": {
        "id": "WN6Ww48SGF4A"
      },
      "source": [
        "Create one variable for each of the types integer, float, and string. Check their types using the `type()` function"
      ]
    },
    {
      "cell_type": "code",
      "execution_count": null,
      "metadata": {
        "id": "ef0LJlLOGF4A"
      },
      "outputs": [],
      "source": []
    },
    {
      "cell_type": "markdown",
      "metadata": {
        "id": "2i0b5C3OGF4A"
      },
      "source": [
        "Create a string variable that contains the digits of a number. Create a new variable by converting this string to an integer. Print the types of both variables"
      ]
    },
    {
      "cell_type": "code",
      "execution_count": null,
      "metadata": {
        "id": "BqsrdkpzGF4A"
      },
      "outputs": [],
      "source": []
    },
    {
      "cell_type": "markdown",
      "metadata": {
        "id": "5nnQZZeGGF4A"
      },
      "source": [
        "### Standard Puzzles"
      ]
    },
    {
      "cell_type": "markdown",
      "metadata": {
        "id": "0IKHshwhGF4B"
      },
      "source": [
        "Define the variables `x`, `y`, and `z` as in the presentation. What are their types?"
      ]
    },
    {
      "cell_type": "code",
      "execution_count": null,
      "metadata": {
        "id": "GDaS8sfiGF4B"
      },
      "outputs": [],
      "source": []
    },
    {
      "cell_type": "markdown",
      "metadata": {
        "id": "j0pe3mnxGF4B"
      },
      "source": [
        "Add two string variables together and print the result"
      ]
    },
    {
      "cell_type": "code",
      "execution_count": null,
      "metadata": {
        "id": "nZirEFG_GF4B"
      },
      "outputs": [],
      "source": [
        "# try it here and write your response below\n"
      ]
    },
    {
      "cell_type": "markdown",
      "metadata": {
        "id": "WXmx7hegGF4B"
      },
      "source": []
    },
    {
      "cell_type": "markdown",
      "metadata": {
        "id": "PibsllpvGF4B"
      },
      "source": [
        "### Bonus Puzzles"
      ]
    },
    {
      "cell_type": "markdown",
      "metadata": {
        "id": "JPvLfgi4GF4B"
      },
      "source": [
        "What happens if we omit don't wrap `type()` in `print()`?"
      ]
    },
    {
      "cell_type": "code",
      "execution_count": null,
      "metadata": {
        "id": "97WhV3G5GF4B"
      },
      "outputs": [],
      "source": []
    },
    {
      "cell_type": "markdown",
      "metadata": {
        "id": "MH4j6i6uGF4B"
      },
      "source": [
        "Try multiplying a string by an integer. What happens?"
      ]
    },
    {
      "cell_type": "code",
      "execution_count": null,
      "metadata": {
        "id": "CaRv0sKfGF4C"
      },
      "outputs": [],
      "source": []
    },
    {
      "cell_type": "markdown",
      "metadata": {
        "id": "b3w2TQYOGF4C"
      },
      "source": []
    },
    {
      "cell_type": "markdown",
      "metadata": {
        "id": "_qEl5s8lGF4C"
      },
      "source": [
        "## More Variable Puzzles"
      ]
    },
    {
      "cell_type": "markdown",
      "metadata": {
        "id": "lybYti0qGF4C"
      },
      "source": [
        "### Standard Puzzles"
      ]
    },
    {
      "cell_type": "markdown",
      "metadata": {
        "id": "Hea7GjJ4GF4C"
      },
      "source": [
        "Create variables `pi` and `radius`"
      ]
    },
    {
      "cell_type": "code",
      "execution_count": null,
      "metadata": {
        "id": "w7h_B5VPGF4C"
      },
      "outputs": [],
      "source": []
    },
    {
      "cell_type": "markdown",
      "metadata": {
        "id": "knkmzlUkGF4C"
      },
      "source": [
        "Use these to print the area and circumference of the corresponding circle. Remember $A=\\pi r^2$ and $C = 2\\pi r$"
      ]
    },
    {
      "cell_type": "code",
      "execution_count": null,
      "metadata": {
        "id": "a3VkKXHvGF4C"
      },
      "outputs": [],
      "source": []
    },
    {
      "cell_type": "markdown",
      "metadata": {
        "id": "WUuhC2ZvGF4C"
      },
      "source": [
        "### Bonus Puzzles"
      ]
    },
    {
      "cell_type": "markdown",
      "metadata": {
        "id": "AnYWcdOkGF4C"
      },
      "source": [
        "Repeat the above exercise using the `round()` function"
      ]
    },
    {
      "cell_type": "code",
      "execution_count": null,
      "metadata": {
        "id": "gIppPZK0GF4D"
      },
      "outputs": [],
      "source": []
    }
  ],
  "metadata": {
    "colab": {
      "name": "Code Club Session 1",
      "provenance": [],
      "include_colab_link": true
    },
    "kernelspec": {
      "display_name": "Python 3",
      "language": "python",
      "name": "python3"
    },
    "language_info": {
      "codemirror_mode": {
        "name": "ipython",
        "version": 3
      },
      "file_extension": ".py",
      "mimetype": "text/x-python",
      "name": "python",
      "nbconvert_exporter": "python",
      "pygments_lexer": "ipython3",
      "version": "3.7.3"
    }
  },
  "nbformat": 4,
  "nbformat_minor": 0
}
