{
  "cells": [
    {
      "cell_type": "markdown",
      "metadata": {
        "id": "FYlp-tqwFRqR"
      },
      "source": [
        "<a href=\"https://colab.research.google.com/github/THargreaves/beginners-python/blob/master/session_one/session_one_blank_template.ipynb\" target=\"_parent\"><img src=\"https://colab.research.google.com/assets/colab-badge.svg\" alt=\"Open In Colab\"/></a>"
      ]
    },
    {
      "cell_type": "markdown",
      "metadata": {
        "id": "SQw_rXIPFRqU"
      },
      "source": [
        "<center>Spotted a mistake? Report it <a href=\"https://github.com/THargreaves/beginners-python/issues/new\">here</a></center>"
      ]
    },
    {
      "cell_type": "markdown",
      "metadata": {
        "id": "dD_sJsgCFRqV"
      },
      "source": [
        "# Beginner's Python—Session One Template"
      ]
    },
    {
      "cell_type": "markdown",
      "metadata": {
        "id": "-Ceh1HnZIsVO"
      },
      "source": [
        "## Printing"
      ]
    },
    {
      "cell_type": "markdown",
      "metadata": {
        "id": "6AZ6H-6jKoSt"
      },
      "source": [
        "### Introduction\n"
      ]
    },
    {
      "cell_type": "markdown",
      "metadata": {
        "id": "5DTMObZpFRqW"
      },
      "source": [
        "Get Python to print \"Hello World\""
      ]
    },
    {
      "cell_type": "code",
      "execution_count": null,
      "metadata": {
        "id": "D4l_2DsZIlgB"
      },
      "outputs": [],
      "source": []
    },
    {
      "cell_type": "code",
      "metadata": {
        "id": "9lLW387eKgNN"
      },
      "source": [
        "Print the number 5"
      ],
      "execution_count": null,
      "outputs": []
    },
    {
      "cell_type": "code",
      "execution_count": null,
      "metadata": {
        "id": "bIr0l5kJI_VV"
      },
      "outputs": [],
      "source": []
    },
    {
      "cell_type": "markdown",
      "metadata": {
        "id": "bekLR1ltFRqY"
      },
      "source": [
        "Print the product of 5 and 10"
      ]
    },
    {
      "cell_type": "code",
      "execution_count": null,
      "metadata": {
        "id": "sJS2FPtKFRqZ"
      },
      "outputs": [],
      "source": []
    },
    {
      "cell_type": "markdown",
      "metadata": {
        "id": "J-Z6QvEYFRqZ"
      },
      "source": [
        "Print both text and arithmetic"
      ]
    },
    {
      "cell_type": "code",
      "execution_count": null,
      "metadata": {
        "id": "GtMo9ofbFRqZ"
      },
      "outputs": [],
      "source": []
    },
    {
      "cell_type": "markdown",
      "metadata": {
        "id": "o7DJvUS6FRqZ"
      },
      "source": [
        "### Standard Puzzles"
      ]
    },
    {
      "cell_type": "markdown",
      "metadata": {
        "id": "fJndfdkSFRqZ"
      },
      "source": [
        "Print your name using the print command"
      ]
    },
    {
      "cell_type": "code",
      "execution_count": null,
      "metadata": {
        "id": "t3NxyJ2XFRqa"
      },
      "outputs": [],
      "source": []
    },
    {
      "cell_type": "markdown",
      "metadata": {
        "id": "vdVkGijfFRqa"
      },
      "source": [
        "Print your three favourite colours"
      ]
    },
    {
      "cell_type": "code",
      "execution_count": null,
      "metadata": {
        "id": "mrsFGK2HFRqa"
      },
      "outputs": [],
      "source": []
    },
    {
      "cell_type": "markdown",
      "metadata": {
        "id": "iEJJU26eFRqa"
      },
      "source": [
        "Calculate $26\\times66+13$"
      ]
    },
    {
      "cell_type": "code",
      "execution_count": null,
      "metadata": {
        "id": "ej3CNmYnFRqa"
      },
      "outputs": [],
      "source": []
    },
    {
      "cell_type": "markdown",
      "metadata": {
        "id": "DhX3ypFyFRqa"
      },
      "source": [
        "Calculate $6804 \\div 162$"
      ]
    },
    {
      "cell_type": "code",
      "execution_count": null,
      "metadata": {
        "id": "9WsEECPXFRqa"
      },
      "outputs": [],
      "source": []
    },
    {
      "cell_type": "markdown",
      "metadata": {
        "id": "0_1JaAhFFRqa"
      },
      "source": [
        "### Bonus Puzzles"
      ]
    },
    {
      "cell_type": "markdown",
      "metadata": {
        "id": "uk4rawR5FRqb"
      },
      "source": [
        "Calculate $2^8$"
      ]
    },
    {
      "cell_type": "code",
      "execution_count": null,
      "metadata": {
        "id": "vsLeFrvrFRqb"
      },
      "outputs": [],
      "source": []
    },
    {
      "cell_type": "markdown",
      "metadata": {
        "id": "X3IauoAfFRqb"
      },
      "source": [
        "What happens if you put a mathematical expression in double quotes when you are printing?"
      ]
    },
    {
      "cell_type": "code",
      "execution_count": null,
      "metadata": {
        "id": "PQK_0ZPpFRqb"
      },
      "outputs": [],
      "source": [
        "# try it on the next line and then write your answer in the next cell\n"
      ]
    },
    {
      "cell_type": "markdown",
      "metadata": {
        "id": "TxA5SJIgFRqb"
      },
      "source": []
    },
    {
      "cell_type": "markdown",
      "metadata": {
        "id": "iYF_wdYWFRqb"
      },
      "source": [
        "Calculate $6804\\div162$ using integer division"
      ]
    },
    {
      "cell_type": "code",
      "execution_count": null,
      "metadata": {
        "id": "GHu5yqHHFRqb"
      },
      "outputs": [],
      "source": []
    },
    {
      "cell_type": "markdown",
      "metadata": {
        "id": "pQdQSZ3XFRqb"
      },
      "source": [
        "## Variables"
      ]
    },
    {
      "cell_type": "markdown",
      "metadata": {
        "id": "6cH3pOc_FRqb"
      },
      "source": [
        "### Introduction"
      ]
    },
    {
      "cell_type": "markdown",
      "metadata": {
        "id": "r7RKL0vXFRqb"
      },
      "source": [
        "Create two variables, storing your name and age :)"
      ]
    },
    {
      "cell_type": "code",
      "execution_count": null,
      "metadata": {
        "id": "vnHzWFZCFRqc"
      },
      "outputs": [],
      "source": []
    },
    {
      "cell_type": "markdown",
      "metadata": {
        "id": "jmeP89S1FRqc"
      },
      "source": [
        "Create a variable containing your favourite food and print this as a sentence"
      ]
    },
    {
      "cell_type": "code",
      "execution_count": null,
      "metadata": {
        "id": "3Ah4iEtrFRqc"
      },
      "outputs": [],
      "source": []
    },
    {
      "cell_type": "markdown",
      "metadata": {
        "id": "ScAo3vXcFRqc"
      },
      "source": [
        "### Standard Puzzles"
      ]
    },
    {
      "cell_type": "markdown",
      "metadata": {
        "id": "ixMOc2O3FRqc"
      },
      "source": [
        "Use the name and age variables from above to print a sentence"
      ]
    },
    {
      "cell_type": "code",
      "execution_count": null,
      "metadata": {
        "id": "QhkC0-DDFRqc"
      },
      "outputs": [],
      "source": []
    },
    {
      "cell_type": "markdown",
      "metadata": {
        "id": "9zHYAlaNFRqg"
      },
      "source": [
        "### Bonus Puzzles"
      ]
    },
    {
      "cell_type": "markdown",
      "metadata": {
        "id": "Ahu_tyGvFRqg"
      },
      "source": [
        "Print what your age will be in 5 year's time as a sentence"
      ]
    },
    {
      "cell_type": "code",
      "execution_count": null,
      "metadata": {
        "id": "h8CObdGqFRqg"
      },
      "outputs": [],
      "source": []
    },
    {
      "cell_type": "markdown",
      "metadata": {
        "id": "sqSmYKKFFRqg"
      },
      "source": [
        "Create a variable with value $n$ the print $n$, $2n$, and $n-1$. Give the variable a new value and reprint these values. How did using variables make this easier?"
      ]
    },
    {
      "cell_type": "code",
      "execution_count": null,
      "metadata": {
        "id": "AmEHlLAoFRqg"
      },
      "outputs": [],
      "source": [
        "# write your code in this cell and answer in the next cell\n"
      ]
    },
    {
      "cell_type": "markdown",
      "metadata": {
        "id": "QTJ6EEhLFRqh"
      },
      "source": []
    },
    {
      "cell_type": "markdown",
      "metadata": {
        "id": "BCYhKreEFRqh"
      },
      "source": [
        "## Manipulating Variables"
      ]
    },
    {
      "cell_type": "markdown",
      "metadata": {
        "id": "kBXGcCokFRqh"
      },
      "source": [
        "### Introduction"
      ]
    },
    {
      "cell_type": "markdown",
      "metadata": {
        "id": "pdRbh1qSFRqh"
      },
      "source": [
        "Overwrite the value of a variable"
      ]
    },
    {
      "cell_type": "code",
      "execution_count": null,
      "metadata": {
        "id": "Zm3ln47eFRqh"
      },
      "outputs": [],
      "source": []
    },
    {
      "cell_type": "markdown",
      "metadata": {
        "id": "RGaYhF-AFRqh"
      },
      "source": [
        "Create a new variable based on the value of another variable"
      ]
    },
    {
      "cell_type": "code",
      "execution_count": null,
      "metadata": {
        "id": "4cn90y-xFRqh"
      },
      "outputs": [],
      "source": []
    },
    {
      "cell_type": "markdown",
      "metadata": {
        "id": "2hkzqvKkFRqh"
      },
      "source": [
        "Overwrite a variable with a new value based on its current value"
      ]
    },
    {
      "cell_type": "code",
      "execution_count": null,
      "metadata": {
        "id": "QBadIVr9FRqh"
      },
      "outputs": [],
      "source": []
    },
    {
      "cell_type": "markdown",
      "metadata": {
        "id": "h2oybPtrFRqh"
      },
      "source": [
        "### Standard Puzzles"
      ]
    },
    {
      "cell_type": "markdown",
      "metadata": {
        "id": "EsoYh5n6FRqh"
      },
      "source": [
        "What do you think the value of `y` will be in the presentation code?"
      ]
    },
    {
      "cell_type": "markdown",
      "metadata": {
        "id": "riT5JRsQFRqi"
      },
      "source": []
    },
    {
      "cell_type": "markdown",
      "metadata": {
        "id": "cVPjZqEsFRqi"
      },
      "source": [
        "## Variable Types"
      ]
    },
    {
      "cell_type": "markdown",
      "metadata": {
        "id": "kqGusnyKFRqi"
      },
      "source": [
        "### Introduction"
      ]
    },
    {
      "cell_type": "markdown",
      "metadata": {
        "id": "zQzuuFO7FRqi"
      },
      "source": [
        "Create one variable for each of the types integer, float, and string. Check their types using the `type()` function"
      ]
    },
    {
      "cell_type": "code",
      "execution_count": null,
      "metadata": {
        "id": "3dv97gXLFRqi"
      },
      "outputs": [],
      "source": []
    },
    {
      "cell_type": "markdown",
      "metadata": {
        "id": "RBQzvNU9FRqi"
      },
      "source": [
        "Create a string variable that contains the digits of a number. Create a new variable by converting this string to an integer. Print the types of both variables"
      ]
    },
    {
      "cell_type": "code",
      "execution_count": null,
      "metadata": {
        "id": "LAIeBwlVFRqj"
      },
      "outputs": [],
      "source": []
    },
    {
      "cell_type": "markdown",
      "metadata": {
        "id": "-E2DFLKiFRqj"
      },
      "source": [
        "### Standard Puzzles"
      ]
    },
    {
      "cell_type": "markdown",
      "metadata": {
        "id": "lNgoPHaHFRqj"
      },
      "source": [
        "Define the variables `x`, `y`, and `z` as in the presentation. What are their types?"
      ]
    },
    {
      "cell_type": "code",
      "execution_count": null,
      "metadata": {
        "id": "tiesrkwaFRqj"
      },
      "outputs": [],
      "source": []
    },
    {
      "cell_type": "markdown",
      "metadata": {
        "id": "LHUExlivFRqj"
      },
      "source": [
        "Add two string variables together and print the result"
      ]
    },
    {
      "cell_type": "code",
      "execution_count": null,
      "metadata": {
        "id": "xlG00DztFRqk"
      },
      "outputs": [],
      "source": [
        "# try it here and write your response below\n"
      ]
    },
    {
      "cell_type": "markdown",
      "metadata": {
        "id": "qI8PBRd-FRqk"
      },
      "source": []
    },
    {
      "cell_type": "markdown",
      "metadata": {
        "id": "wt0Lfrv5FRqk"
      },
      "source": [
        "### Bonus Puzzles"
      ]
    },
    {
      "cell_type": "markdown",
      "metadata": {
        "id": "qXI6hsu4FRqk"
      },
      "source": [
        "What happens if we omit don't wrap `type()` in `print()`?"
      ]
    },
    {
      "cell_type": "code",
      "execution_count": null,
      "metadata": {
        "id": "94IB1EDUFRqk"
      },
      "outputs": [],
      "source": []
    },
    {
      "cell_type": "markdown",
      "metadata": {
        "id": "xb3WfkGOFRqk"
      },
      "source": [
        "Try multiplying a string by an integer. What happens?"
      ]
    },
    {
      "cell_type": "code",
      "execution_count": null,
      "metadata": {
        "id": "xuRqp44dFRqk"
      },
      "outputs": [],
      "source": []
    },
    {
      "cell_type": "markdown",
      "metadata": {
        "id": "Q7LgWpSHFRql"
      },
      "source": []
    },
    {
      "cell_type": "markdown",
      "metadata": {
        "id": "61Epx9T-FRql"
      },
      "source": [
        "## More Variable Puzzles"
      ]
    },
    {
      "cell_type": "markdown",
      "metadata": {
        "id": "h4ZGE2xKFRql"
      },
      "source": [
        "### Standard Puzzles"
      ]
    },
    {
      "cell_type": "markdown",
      "metadata": {
        "id": "1hjBk5OfFRql"
      },
      "source": [
        "Create variables `pi` and `radius`"
      ]
    },
    {
      "cell_type": "code",
      "execution_count": null,
      "metadata": {
        "id": "VS4z-35tFRql"
      },
      "outputs": [],
      "source": []
    },
    {
      "cell_type": "markdown",
      "metadata": {
        "id": "LuoEuL0YFRqm"
      },
      "source": [
        "Use these to print the area and circumference of the corresponding circle. Remember $A=\\pi r^2$ and $C = 2\\pi r$"
      ]
    },
    {
      "cell_type": "code",
      "execution_count": null,
      "metadata": {
        "id": "wyoxkgGfFRqm"
      },
      "outputs": [],
      "source": []
    },
    {
      "cell_type": "markdown",
      "metadata": {
        "id": "QDVCHPiKFRqm"
      },
      "source": [
        "### Bonus Puzzles"
      ]
    },
    {
      "cell_type": "markdown",
      "metadata": {
        "id": "ajz65nkTFRqm"
      },
      "source": [
        "Repeat the above exercise using the `round()` function"
      ]
    },
    {
      "cell_type": "code",
      "execution_count": null,
      "metadata": {
        "id": "625W8nvuFRqm"
      },
      "outputs": [],
      "source": []
    }
  ],
  "metadata": {
    "colab": {
      "name": "Code Club Session 1",
      "provenance": []
    },
    "kernelspec": {
      "display_name": "Python 3",
      "language": "python",
      "name": "python3"
    },
    "language_info": {
      "codemirror_mode": {
        "name": "ipython",
        "version": 3
      },
      "file_extension": ".py",
      "mimetype": "text/x-python",
      "name": "python",
      "nbconvert_exporter": "python",
      "pygments_lexer": "ipython3",
      "version": "3.7.3"
    }
  },
  "nbformat": 4,
  "nbformat_minor": 0
}