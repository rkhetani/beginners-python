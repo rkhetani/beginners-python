{
 "cells": [
  {
   "cell_type": "markdown",
   "id": "87ea700a-2f75-4b66-940a-4d5d7b610f2f",
   "metadata": {},
   "source": [
    "# Dictionaries"
   ]
  },
  {
   "cell_type": "markdown",
   "id": "f6e12cde-22da-4d45-b624-0f66a1173de9",
   "metadata": {},
   "source": [
    "So far we have encountered lists and tuples as ways to store data in python. \n",
    "\n",
    "These are great, but have the limitation that all values must be indexed by an integer. This can be problematic when you want to store data that does not have any obvious order, or where the natural way to reference imformation is via some non integer index.\n",
    "\n",
    "**Example**: The number of employees at different AstraZeneca sites. The information here is more naturally indexesd by the site names."
   ]
  },
  {
   "cell_type": "markdown",
   "id": "60f7714b-ca4e-4eb3-827c-45becd72faf2",
   "metadata": {},
   "source": [
    "<div>\n",
    "<img src=\"Employees_table.png\" width=\"500\"/>\n",
    "</div>"
   ]
  },
  {
   "cell_type": "markdown",
   "id": "bedebf5b-e982-47bf-9bed-5b56f6a9589c",
   "metadata": {},
   "source": [
    "Dictionaries enable items to be indexed by other types of object ,most usefully via strings, enabling data to be called upon more intuitively."
   ]
  },
  {
   "cell_type": "markdown",
   "id": "a2898338-1634-4bfd-b41c-7d04f9535b28",
   "metadata": {},
   "source": [
    "### A Simple Example"
   ]
  },
  {
   "cell_type": "markdown",
   "id": "aaa36623-bc85-40a4-aabe-3c01599b1771",
   "metadata": {},
   "source": [
    "Dictionaries can be created using `{}` brackets:"
   ]
  },
  {
   "cell_type": "code",
   "execution_count": null,
   "id": "b8c9d7f4-8473-433b-83ac-a94e784fb7b3",
   "metadata": {},
   "outputs": [],
   "source": []
  },
  {
   "cell_type": "code",
   "execution_count": null,
   "id": "92d8fd43-a216-4bc6-ad46-270df6c1b287",
   "metadata": {},
   "outputs": [],
   "source": []
  },
  {
   "cell_type": "markdown",
   "id": "5b70778e-5e86-42eb-915b-4aec1ee4e01d",
   "metadata": {},
   "source": [
    "Values can accessed via the usual syntax:"
   ]
  },
  {
   "cell_type": "code",
   "execution_count": null,
   "id": "7cc1b2fc-2c49-4854-b09c-eb302023f2a6",
   "metadata": {},
   "outputs": [],
   "source": []
  },
  {
   "cell_type": "markdown",
   "id": "31840959-b148-4870-8149-f316a7eff1ce",
   "metadata": {},
   "source": [
    "Dictionary Terminology\n",
    "- The indexing objects in a dictionary are called **keys**\n",
    "- Values are called **values**\n",
    "- `(key, value)` pairs are called **items**:"
   ]
  },
  {
   "cell_type": "code",
   "execution_count": null,
   "id": "54a9bc50-583c-441c-8209-d8cd892bf52f",
   "metadata": {},
   "outputs": [],
   "source": []
  },
  {
   "cell_type": "code",
   "execution_count": null,
   "id": "d82144c7-217b-4a01-a5f5-cbb26ba2eb94",
   "metadata": {},
   "outputs": [],
   "source": []
  },
  {
   "cell_type": "code",
   "execution_count": null,
   "id": "4ecd098b-b489-4900-9dc5-832f9c28c4ee",
   "metadata": {},
   "outputs": [],
   "source": []
  },
  {
   "cell_type": "markdown",
   "id": "6232f2bb-ef95-4323-af4a-47656bac4e69",
   "metadata": {},
   "source": [
    "#### Other Examples"
   ]
  },
  {
   "cell_type": "markdown",
   "id": "39049073-832d-494f-9767-e73ae2c9cd65",
   "metadata": {},
   "source": [
    "A lookup table for ensemble and human readable gene names:"
   ]
  },
  {
   "cell_type": "code",
   "execution_count": null,
   "id": "c22c20f8-2239-4743-8aee-5d84a87ae9f1",
   "metadata": {},
   "outputs": [],
   "source": []
  },
  {
   "cell_type": "code",
   "execution_count": null,
   "id": "d3f28937-c21a-4de5-9f79-57c63b7c3745",
   "metadata": {},
   "outputs": [],
   "source": []
  },
  {
   "cell_type": "code",
   "execution_count": null,
   "id": "51c46f54-1b35-4caa-9e9a-8d959c60fd41",
   "metadata": {},
   "outputs": [],
   "source": []
  },
  {
   "cell_type": "markdown",
   "id": "ff1191e4-6bef-4be0-84c3-a0be276d0f7d",
   "metadata": {},
   "source": [
    "A lookup for translation between different languages:"
   ]
  },
  {
   "cell_type": "code",
   "execution_count": null,
   "id": "b0b53476-d3f9-48bf-ae6c-7316db43d496",
   "metadata": {},
   "outputs": [],
   "source": []
  },
  {
   "cell_type": "code",
   "execution_count": null,
   "id": "3f259786-a8ef-4084-bfe0-12f42a738380",
   "metadata": {},
   "outputs": [],
   "source": []
  },
  {
   "cell_type": "code",
   "execution_count": null,
   "id": "fff461c5-e3bb-42e9-b015-a34f83ca4927",
   "metadata": {},
   "outputs": [],
   "source": []
  },
  {
   "cell_type": "code",
   "execution_count": null,
   "id": "83fae2e1-d915-4750-91bb-7186119bbfaf",
   "metadata": {},
   "outputs": [],
   "source": []
  },
  {
   "cell_type": "markdown",
   "id": "27e700aa-a234-4315-b9fd-ba289a286c9c",
   "metadata": {},
   "source": [
    "### Working with Dictionaries"
   ]
  },
  {
   "cell_type": "markdown",
   "id": "9a503718-1a42-4df8-b639-990345559a1f",
   "metadata": {},
   "source": [
    "By default, python typically interacts with dictionaries via their keys.\n",
    "\n",
    "**Example**: checking if an item is in a dictionary"
   ]
  },
  {
   "cell_type": "code",
   "execution_count": null,
   "id": "b97feb69-9262-40cf-a3f7-fa6c51b3e374",
   "metadata": {},
   "outputs": [],
   "source": []
  },
  {
   "cell_type": "code",
   "execution_count": null,
   "id": "1f71a1e1-bbb8-407b-b64f-2aa95734c13c",
   "metadata": {},
   "outputs": [],
   "source": []
  },
  {
   "cell_type": "markdown",
   "id": "abf59c3e-be29-48c5-bad7-5c463c0ef687",
   "metadata": {},
   "source": [
    "**Example**: Looping through a dictionary"
   ]
  },
  {
   "cell_type": "code",
   "execution_count": null,
   "id": "7b9ee07f-aa61-4162-98da-fe318314cfb3",
   "metadata": {},
   "outputs": [],
   "source": []
  },
  {
   "cell_type": "markdown",
   "id": "8497ffbb-6838-4af9-8ee1-311626ece957",
   "metadata": {},
   "source": [
    "**Example**: Deleting an item"
   ]
  },
  {
   "cell_type": "code",
   "execution_count": null,
   "id": "63ca590b-f0d9-42fd-ade2-2e6c3d9af916",
   "metadata": {},
   "outputs": [],
   "source": []
  },
  {
   "cell_type": "code",
   "execution_count": null,
   "id": "e8f959d8-1017-4db1-88fb-bd24c38a3fe6",
   "metadata": {},
   "outputs": [],
   "source": []
  },
  {
   "cell_type": "markdown",
   "id": "a465a6be-3b7c-42e5-9ff2-6a5b230f1288",
   "metadata": {},
   "source": [
    "If we wish to work with the values instead, or with the key-value pairs, we can manually specify this."
   ]
  },
  {
   "cell_type": "code",
   "execution_count": null,
   "id": "927622fb-237e-47b2-bbce-dccaf7008f61",
   "metadata": {},
   "outputs": [],
   "source": []
  },
  {
   "cell_type": "code",
   "execution_count": null,
   "id": "48a027f9-732e-4df3-962c-91e783001f48",
   "metadata": {},
   "outputs": [],
   "source": []
  },
  {
   "cell_type": "code",
   "execution_count": null,
   "id": "2b63763f-2c70-4865-9639-46f28d0fe163",
   "metadata": {},
   "outputs": [],
   "source": []
  },
  {
   "cell_type": "markdown",
   "id": "641ec683-6723-4f1a-a769-13c3fc22e1dc",
   "metadata": {},
   "source": [
    "## Advanced Concepts"
   ]
  },
  {
   "cell_type": "markdown",
   "id": "dd7f7574-38fc-46ed-995d-1f36f6274c73",
   "metadata": {
    "tags": []
   },
   "source": [
    "### `.get()`"
   ]
  },
  {
   "cell_type": "markdown",
   "id": "4be7a3dd-108b-4692-984a-27c95729f7f5",
   "metadata": {},
   "source": [
    "The `.get()` method allows you to specify a default argument to return in the case that the dictionary contains no information for the given key."
   ]
  },
  {
   "cell_type": "code",
   "execution_count": null,
   "id": "3a570c3d-f177-4558-9efa-b4046833b613",
   "metadata": {},
   "outputs": [],
   "source": []
  },
  {
   "cell_type": "code",
   "execution_count": null,
   "id": "b5738419-a24f-465b-aa49-74abb3ae15b1",
   "metadata": {},
   "outputs": [],
   "source": []
  },
  {
   "cell_type": "code",
   "execution_count": null,
   "id": "c3d0b259-b272-4873-b7ba-94fbdbc50224",
   "metadata": {},
   "outputs": [],
   "source": []
  },
  {
   "cell_type": "code",
   "execution_count": null,
   "id": "f35a2fc4-f443-4dd8-b019-e5329688c8bf",
   "metadata": {
    "tags": []
   },
   "outputs": [],
   "source": []
  },
  {
   "cell_type": "code",
   "execution_count": null,
   "id": "942016b3-fc21-4d17-9823-0dc15906a809",
   "metadata": {},
   "outputs": [],
   "source": []
  },
  {
   "cell_type": "code",
   "execution_count": null,
   "id": "c6463501-b43e-48c3-b228-a10acc80a7dc",
   "metadata": {},
   "outputs": [],
   "source": []
  },
  {
   "cell_type": "code",
   "execution_count": null,
   "id": "1d36640e-81de-4f65-b5ad-89a2fa700636",
   "metadata": {},
   "outputs": [],
   "source": []
  }
 ],
 "metadata": {
  "kernelspec": {
   "display_name": "Python-3.9.5-foss-2021a",
   "language": "python",
   "name": "python-3.9.5-foss-2021a"
  },
  "language_info": {
   "codemirror_mode": {
    "name": "ipython",
    "version": 3
   },
   "file_extension": ".py",
   "mimetype": "text/x-python",
   "name": "python",
   "nbconvert_exporter": "python",
   "pygments_lexer": "ipython3",
   "version": "3.9.5"
  }
 },
 "nbformat": 4,
 "nbformat_minor": 5
}
