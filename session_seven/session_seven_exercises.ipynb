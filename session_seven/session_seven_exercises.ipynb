{
 "cells": [
  {
      "cell_type": "markdown",
      "metadata": {
        "id": "view-in-github",
        "colab_type": "text"
      },
      "source": [
        "<a href=\"https://colab.research.google.com/github/rkhetani/beginners-python/blob/master/session_seven/session_seven_exercises.ipynb\" target=\"_parent\"><img src=\"https://colab.research.google.com/assets/colab-badge.svg\" alt=\"Open In Colab\"/></a>"
      ]
  },
  {
   "cell_type": "markdown",
   "id": "edd79ef7-7100-48a9-b513-1da2ab91af62",
   "metadata": {},
   "source": [
    "## Exercise 1"
   ]
  },
  {
   "cell_type": "markdown",
   "id": "fbc307c5-9296-423a-b2f6-b85965ad5fa1",
   "metadata": {},
   "source": [
    "Create a dictionary with some information about you. Try to include at least one value of each of the types integer, string, list and Boolean."
   ]
  },
  {
   "cell_type": "code",
   "execution_count": null,
   "id": "479f3a41-93ea-4bec-ac0a-6c0cd538b47e",
   "metadata": {},
   "outputs": [],
   "source": []
  },
  {
   "cell_type": "code",
   "execution_count": null,
   "id": "3abb8bc4-0f36-4d14-9114-941c9212ebe7",
   "metadata": {},
   "outputs": [],
   "source": []
  },
  {
   "cell_type": "code",
   "execution_count": null,
   "id": "ca7f7014-e445-464b-98af-87edc67e47f0",
   "metadata": {},
   "outputs": [],
   "source": []
  },
  {
   "cell_type": "markdown",
   "id": "89bb7f36-83a4-40e6-b7b5-660bfcfa01e1",
   "metadata": {},
   "source": [
    "## Exercise 2"
   ]
  },
  {
   "cell_type": "markdown",
   "id": "24cfb318-4572-46a2-8c72-12d7c910fde1",
   "metadata": {},
   "source": [
    "What do you think the following code will do?\n",
    "\n",
    "` my_dict = {\"x\":1, \"y\":2, \"x\":3} `\n",
    "\n",
    "` my_dict[\"x\"] `"
   ]
  },
  {
   "cell_type": "code",
   "execution_count": null,
   "id": "d52b415e-05f2-4f8a-a1da-603fd56a78c0",
   "metadata": {},
   "outputs": [],
   "source": []
  },
  {
   "cell_type": "code",
   "execution_count": null,
   "id": "13e0b7e1-1ae4-4504-94ac-fe43c64ee95f",
   "metadata": {},
   "outputs": [],
   "source": []
  },
  {
   "cell_type": "markdown",
   "id": "f4ec08ab-d29e-4abf-8879-a7e6368d128f",
   "metadata": {},
   "source": [
    "## Exercise 3"
   ]
  },
  {
   "cell_type": "markdown",
   "id": "730f5bd7-a274-402f-8b35-6147a538b56f",
   "metadata": {},
   "source": [
    "Create a function that takes a string as input, and outputs a dictionary containing the number of times each character appears in the string. Try running it on the string “beginners python”"
   ]
  },
  {
   "cell_type": "code",
   "execution_count": null,
   "id": "2e79a870-10ba-4456-b81c-e1d50ff3cdd1",
   "metadata": {},
   "outputs": [],
   "source": []
  },
  {
   "cell_type": "code",
   "execution_count": null,
   "id": "f66f34e3-77b7-4695-9f00-53123624319a",
   "metadata": {},
   "outputs": [],
   "source": []
  },
  {
   "cell_type": "markdown",
   "id": "fcf1cd6a-e968-41b4-9eff-e0bf7b365542",
   "metadata": {},
   "source": [
    "Inclusion of print statement"
   ]
  },
  {
   "cell_type": "code",
   "execution_count": null,
   "id": "094b33d0-7152-42af-b162-413d9da2c54c",
   "metadata": {},
   "outputs": [],
   "source": []
  },
  {
   "cell_type": "code",
   "execution_count": null,
   "id": "129d0ef0-aa28-453b-a1d1-6d3541910e8e",
   "metadata": {},
   "outputs": [],
   "source": []
  },
  {
   "cell_type": "markdown",
   "id": "0f0e99e8-9359-4f78-8225-e9176aedc2bf",
   "metadata": {},
   "source": [
    "Modification with correct grammar"
   ]
  },
  {
   "cell_type": "code",
   "execution_count": null,
   "id": "114a272f-a1fd-4290-baf5-34c1c8a9bec9",
   "metadata": {},
   "outputs": [],
   "source": []
  },
  {
   "cell_type": "code",
   "execution_count": null,
   "id": "c201d0ac-b11f-42c1-b522-5b7542a3295a",
   "metadata": {},
   "outputs": [],
   "source": []
  },
  {
   "cell_type": "markdown",
   "id": "e7182c96-ec3a-4a70-96dd-d275a7d3e464",
   "metadata": {},
   "source": [
    "## Exercise 4"
   ]
  },
  {
   "cell_type": "markdown",
   "id": "7d156a49-72f7-4c38-a7e2-1acbee919f11",
   "metadata": {},
   "source": [
    "Use the `.get()` method to re-write the function you wrote in the previous exercise without any if statements"
   ]
  },
  {
   "cell_type": "code",
   "execution_count": null,
   "id": "fbee5a2f-85b6-402c-be07-761afd9d4991",
   "metadata": {},
   "outputs": [],
   "source": []
  },
  {
   "cell_type": "code",
   "execution_count": null,
   "id": "f7285b4c-76c3-4dad-b1ca-3e4d0c72dcda",
   "metadata": {},
   "outputs": [],
   "source": []
  },
  {
   "cell_type": "markdown",
   "id": "bfba2801-f377-43a0-bd59-5ea2a03be134",
   "metadata": {},
   "source": [
    "## Exercise 5"
   ]
  },
  {
   "cell_type": "markdown",
   "id": "1d8778c5-032e-4397-9b70-1c0a6e1c7443",
   "metadata": {},
   "source": [
    "Create a function that takes as input a dictionary g, and returns a dictionary h such that \n",
    "\n",
    "* the keys of `h` are the values `g`\n",
    "* The value of `h[y]` is a is a list of keys `x` such that `g[x] = y`"
   ]
  },
  {
   "cell_type": "code",
   "execution_count": null,
   "id": "a4cc80a7-5a4e-44a6-9e34-01375f725c72",
   "metadata": {},
   "outputs": [],
   "source": []
  },
  {
   "cell_type": "code",
   "execution_count": null,
   "id": "478eb748-7b24-4f08-b967-a14e31fe6f0e",
   "metadata": {},
   "outputs": [],
   "source": []
  }
 ],
 "metadata": {
  "kernelspec": {
   "display_name": "Python-3.9.5-foss-2021a",
   "language": "python",
   "name": "python-3.9.5-foss-2021a"
  },
  "language_info": {
   "codemirror_mode": {
    "name": "ipython",
    "version": 3
   },
   "file_extension": ".py",
   "mimetype": "text/x-python",
   "name": "python",
   "nbconvert_exporter": "python",
   "pygments_lexer": "ipython3",
   "version": "3.9.5"
  }
 },
 "nbformat": 4,
 "nbformat_minor": 5
}
