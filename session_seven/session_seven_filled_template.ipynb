{
 "cells": [
  {
      "cell_type": "markdown",
      "metadata": {
        "id": "view-in-github",
        "colab_type": "text"
      },
      "source": [
        "<a href=\"https://colab.research.google.com/github/rkhetani/beginners-python/blob/master/session_seven/session_seven_blank_template.ipynb\" target=\"_parent\"><img src=\"https://colab.research.google.com/assets/colab-badge.svg\" alt=\"Open In Colab\"/></a>"
      ]
  },
  {
   "cell_type": "markdown",
   "id": "87ea700a-2f75-4b66-940a-4d5d7b610f2f",
   "metadata": {},
   "source": [
    "# Dictionaries"
   ]
  },
  {
   "cell_type": "markdown",
   "id": "f6e12cde-22da-4d45-b624-0f66a1173de9",
   "metadata": {},
   "source": [
    "So far we have encountered lists and tuples as ways to store data in python. \n",
    "\n",
    "These are great, but have the limitation that all values must be indexed by an integer. This can be problematic when you want to store data that does not have any obvious order, or where the natural way to reference imformation is via some non integer index.\n",
    "\n",
    "**Example**: The number of employees at different AstraZeneca sites. The information here is more naturally indexesd by the site names."
   ]
  },
  {
   "cell_type": "markdown",
   "id": "60f7714b-ca4e-4eb3-827c-45becd72faf2",
   "metadata": {},
   "source": [
    "<div>\n",
    "<img src=\"Employees_table.png\" width=\"500\"/>\n",
    "</div>"
   ]
  },
  {
   "cell_type": "markdown",
   "id": "bedebf5b-e982-47bf-9bed-5b56f6a9589c",
   "metadata": {},
   "source": [
    "Dictionaries enable items to be indexed by other types of object ,most usefully via strings, enabling data to be called upon more intuitively."
   ]
  },
  {
   "cell_type": "markdown",
   "id": "a2898338-1634-4bfd-b41c-7d04f9535b28",
   "metadata": {},
   "source": [
    "### A Simple Example"
   ]
  },
  {
   "cell_type": "markdown",
   "id": "aaa36623-bc85-40a4-aabe-3c01599b1771",
   "metadata": {},
   "source": [
    "Dictionaries can be created using `{}` brackets:"
   ]
  },
  {
   "cell_type": "code",
   "execution_count": 43,
   "id": "b8c9d7f4-8473-433b-83ac-a94e784fb7b3",
   "metadata": {},
   "outputs": [],
   "source": [
    "employees = {\"Cambridge\":3750, \n",
    "             \"Gothenburg\":3000, \n",
    "             \"London\":200, \n",
    "             \"Gaithersburg\":3500, \n",
    "             \"Boston\":1250, \n",
    "             \"Macclesfield\":4500} "
   ]
  },
  {
   "cell_type": "code",
   "execution_count": 44,
   "id": "92d8fd43-a216-4bc6-ad46-270df6c1b287",
   "metadata": {},
   "outputs": [
    {
     "data": {
      "text/plain": [
       "{'Cambridge': 3750,\n",
       " 'Gothenburg': 3000,\n",
       " 'London': 200,\n",
       " 'Gaithersburg': 3500,\n",
       " 'Boston': 1250,\n",
       " 'Macclesfield': 4500}"
      ]
     },
     "execution_count": 44,
     "metadata": {},
     "output_type": "execute_result"
    }
   ],
   "source": [
    "employees"
   ]
  },
  {
   "cell_type": "markdown",
   "id": "5b70778e-5e86-42eb-915b-4aec1ee4e01d",
   "metadata": {},
   "source": [
    "Values can accessed via the usual syntax:"
   ]
  },
  {
   "cell_type": "code",
   "execution_count": 30,
   "id": "7cc1b2fc-2c49-4854-b09c-eb302023f2a6",
   "metadata": {},
   "outputs": [
    {
     "data": {
      "text/plain": [
       "3750"
      ]
     },
     "execution_count": 30,
     "metadata": {},
     "output_type": "execute_result"
    }
   ],
   "source": [
    "employees[\"Cambridge\"]"
   ]
  },
  {
   "cell_type": "markdown",
   "id": "31840959-b148-4870-8149-f316a7eff1ce",
   "metadata": {},
   "source": [
    "Dictionary Terminology\n",
    "- The indexing objects in a dictionary are called **keys**\n",
    "- Values are called **values**\n",
    "- `(key, value)` pairs are called **items**:"
   ]
  },
  {
   "cell_type": "code",
   "execution_count": 35,
   "id": "54a9bc50-583c-441c-8209-d8cd892bf52f",
   "metadata": {},
   "outputs": [
    {
     "data": {
      "text/plain": [
       "dict_keys(['Cambridge', 'Gothenburg', 'Gaithersburg', 'Boston', 'Macclesfield'])"
      ]
     },
     "execution_count": 35,
     "metadata": {},
     "output_type": "execute_result"
    }
   ],
   "source": [
    "employees.keys()"
   ]
  },
  {
   "cell_type": "code",
   "execution_count": 36,
   "id": "d82144c7-217b-4a01-a5f5-cbb26ba2eb94",
   "metadata": {},
   "outputs": [
    {
     "data": {
      "text/plain": [
       "dict_values([3750, 3000, 3500, 1250, 4500])"
      ]
     },
     "execution_count": 36,
     "metadata": {},
     "output_type": "execute_result"
    }
   ],
   "source": [
    "employees.values()"
   ]
  },
  {
   "cell_type": "code",
   "execution_count": 37,
   "id": "4ecd098b-b489-4900-9dc5-832f9c28c4ee",
   "metadata": {},
   "outputs": [
    {
     "data": {
      "text/plain": [
       "dict_items([('Cambridge', 3750), ('Gothenburg', 3000), ('Gaithersburg', 3500), ('Boston', 1250), ('Macclesfield', 4500)])"
      ]
     },
     "execution_count": 37,
     "metadata": {},
     "output_type": "execute_result"
    }
   ],
   "source": [
    "employees.items()"
   ]
  },
  {
   "cell_type": "markdown",
   "id": "6232f2bb-ef95-4323-af4a-47656bac4e69",
   "metadata": {},
   "source": [
    "#### Other Examples"
   ]
  },
  {
   "cell_type": "markdown",
   "id": "39049073-832d-494f-9767-e73ae2c9cd65",
   "metadata": {},
   "source": [
    "A lookup table for ensemble and human readable gene names:"
   ]
  },
  {
   "cell_type": "code",
   "execution_count": 32,
   "id": "c22c20f8-2239-4743-8aee-5d84a87ae9f1",
   "metadata": {},
   "outputs": [
    {
     "data": {
      "text/plain": [
       "{}"
      ]
     },
     "execution_count": 32,
     "metadata": {},
     "output_type": "execute_result"
    }
   ],
   "source": [
    "ensembl_human_dict = dict()\n",
    "ensembl_human_dict"
   ]
  },
  {
   "cell_type": "code",
   "execution_count": 33,
   "id": "d3f28937-c21a-4de5-9f79-57c63b7c3745",
   "metadata": {},
   "outputs": [
    {
     "data": {
      "text/plain": [
       "{'TP53': 'ENSG00000141510'}"
      ]
     },
     "execution_count": 33,
     "metadata": {},
     "output_type": "execute_result"
    }
   ],
   "source": [
    "ensembl_human_dict[\"TP53\"] = \"ENSG00000141510\"\n",
    "ensembl_human_dict"
   ]
  },
  {
   "cell_type": "code",
   "execution_count": 34,
   "id": "51c46f54-1b35-4caa-9e9a-8d959c60fd41",
   "metadata": {},
   "outputs": [
    {
     "data": {
      "text/plain": [
       "{'TP53': 'ENSG00000141510',\n",
       " 'COL1A1': 'ENSG00000108821',\n",
       " 'BRCA2': 'ENSG00000139618',\n",
       " 'BRCA1': 'ENSG00000139618'}"
      ]
     },
     "execution_count": 34,
     "metadata": {},
     "output_type": "execute_result"
    }
   ],
   "source": [
    "ensembl_human_dict[\"COL1A1\"] = \"ENSG00000108821\"\n",
    "ensembl_human_dict[\"BRCA2\"] = \"ENSG00000139618\"\n",
    "ensembl_human_dict[\"BRCA1\"] = \"ENSG00000139618\"\n",
    "ensembl_human_dict"
   ]
  },
  {
   "cell_type": "markdown",
   "id": "ff1191e4-6bef-4be0-84c3-a0be276d0f7d",
   "metadata": {},
   "source": [
    "A lookup for translation between different languages:"
   ]
  },
  {
   "cell_type": "code",
   "execution_count": 1,
   "id": "b0b53476-d3f9-48bf-ae6c-7316db43d496",
   "metadata": {},
   "outputs": [],
   "source": [
    "eng2swe = {\"hi\":\"hej\", \"thanks\":\"tak\"}"
   ]
  },
  {
   "cell_type": "code",
   "execution_count": 2,
   "id": "73a3866f-28ed-4bb1-982b-a5fd11aa9165",
   "metadata": {},
   "outputs": [
    {
     "data": {
      "text/plain": [
       "{'hi': 'hej', 'thanks': 'tak'}"
      ]
     },
     "execution_count": 2,
     "metadata": {},
     "output_type": "execute_result"
    }
   ],
   "source": [
    "eng2swe"
   ]
  },
  {
   "cell_type": "code",
   "execution_count": 5,
   "id": "ac07a0d8-e88c-4d2f-bf47-21ed028a18e3",
   "metadata": {},
   "outputs": [],
   "source": [
    "eng2swe[\"thanks\"] = \"tack\""
   ]
  },
  {
   "cell_type": "code",
   "execution_count": 6,
   "id": "855be519-a5b6-442d-8d14-762ab29d759a",
   "metadata": {},
   "outputs": [
    {
     "data": {
      "text/plain": [
       "{'hi': 'hej', 'thanks': 'tack'}"
      ]
     },
     "execution_count": 6,
     "metadata": {},
     "output_type": "execute_result"
    }
   ],
   "source": [
    "eng2swe"
   ]
  },
  {
   "cell_type": "markdown",
   "id": "27e700aa-a234-4315-b9fd-ba289a286c9c",
   "metadata": {},
   "source": [
    "### Working with Dictionaries"
   ]
  },
  {
   "cell_type": "markdown",
   "id": "9a503718-1a42-4df8-b639-990345559a1f",
   "metadata": {},
   "source": [
    "By default, python typically interacts with dictionaries via their keys.\n",
    "\n",
    "**Example**: checking if an item is in a dictionary"
   ]
  },
  {
   "cell_type": "code",
   "execution_count": 38,
   "id": "b97feb69-9262-40cf-a3f7-fa6c51b3e374",
   "metadata": {},
   "outputs": [
    {
     "data": {
      "text/plain": [
       "True"
      ]
     },
     "execution_count": 38,
     "metadata": {},
     "output_type": "execute_result"
    }
   ],
   "source": [
    "\"Cambridge\" in employees"
   ]
  },
  {
   "cell_type": "code",
   "execution_count": 41,
   "id": "1f71a1e1-bbb8-407b-b64f-2aa95734c13c",
   "metadata": {},
   "outputs": [
    {
     "data": {
      "text/plain": [
       "False"
      ]
     },
     "execution_count": 41,
     "metadata": {},
     "output_type": "execute_result"
    }
   ],
   "source": [
    "3750 in employees"
   ]
  },
  {
   "cell_type": "markdown",
   "id": "abf59c3e-be29-48c5-bad7-5c463c0ef687",
   "metadata": {},
   "source": [
    "**Example**: Looping through a dictionary"
   ]
  },
  {
   "cell_type": "code",
   "execution_count": 42,
   "id": "7b9ee07f-aa61-4162-98da-fe318314cfb3",
   "metadata": {},
   "outputs": [
    {
     "name": "stdout",
     "output_type": "stream",
     "text": [
      "Cambridge\n",
      "Gothenburg\n",
      "Gaithersburg\n",
      "Boston\n",
      "Macclesfield\n"
     ]
    }
   ],
   "source": [
    "for x in employees:\n",
    "    print(x)"
   ]
  },
  {
   "cell_type": "markdown",
   "id": "8497ffbb-6838-4af9-8ee1-311626ece957",
   "metadata": {},
   "source": [
    "**Example**: Deleting an item"
   ]
  },
  {
   "cell_type": "code",
   "execution_count": 46,
   "id": "63ca590b-f0d9-42fd-ade2-2e6c3d9af916",
   "metadata": {},
   "outputs": [],
   "source": [
    "del employees[\"London\"]"
   ]
  },
  {
   "cell_type": "code",
   "execution_count": 47,
   "id": "e8f959d8-1017-4db1-88fb-bd24c38a3fe6",
   "metadata": {},
   "outputs": [
    {
     "data": {
      "text/plain": [
       "{'Cambridge': 3750,\n",
       " 'Gothenburg': 3000,\n",
       " 'Gaithersburg': 3500,\n",
       " 'Boston': 1250,\n",
       " 'Macclesfield': 4500}"
      ]
     },
     "execution_count": 47,
     "metadata": {},
     "output_type": "execute_result"
    }
   ],
   "source": [
    "employees"
   ]
  },
  {
   "cell_type": "markdown",
   "id": "a465a6be-3b7c-42e5-9ff2-6a5b230f1288",
   "metadata": {},
   "source": [
    "If we wish to work with the values instead, or with the key-value pairs, we can manually specify this."
   ]
  },
  {
   "cell_type": "code",
   "execution_count": 9,
   "id": "927622fb-237e-47b2-bbce-dccaf7008f61",
   "metadata": {},
   "outputs": [
    {
     "data": {
      "text/plain": [
       "True"
      ]
     },
     "execution_count": 9,
     "metadata": {},
     "output_type": "execute_result"
    }
   ],
   "source": [
    "3750 in employees.values()"
   ]
  },
  {
   "cell_type": "code",
   "execution_count": 8,
   "id": "48a027f9-732e-4df3-962c-91e783001f48",
   "metadata": {},
   "outputs": [
    {
     "name": "stdout",
     "output_type": "stream",
     "text": [
      "3750\n",
      "3000\n",
      "200\n",
      "3500\n",
      "1250\n",
      "4500\n"
     ]
    }
   ],
   "source": [
    "for x in employees.values():\n",
    "    print(x)"
   ]
  },
  {
   "cell_type": "code",
   "execution_count": 45,
   "id": "2b63763f-2c70-4865-9639-46f28d0fe163",
   "metadata": {},
   "outputs": [
    {
     "name": "stdout",
     "output_type": "stream",
     "text": [
      "Cambridge: 3750\n",
      "Gothenburg: 3000\n",
      "London: 200\n",
      "Gaithersburg: 3500\n",
      "Boston: 1250\n",
      "Macclesfield: 4500\n"
     ]
    }
   ],
   "source": [
    "for x, y in employees.items():\n",
    "    print(x + \":\", y)"
   ]
  },
  {
   "cell_type": "markdown",
   "id": "641ec683-6723-4f1a-a769-13c3fc22e1dc",
   "metadata": {},
   "source": [
    "## Advanced Concepts"
   ]
  },
  {
   "cell_type": "markdown",
   "id": "dd7f7574-38fc-46ed-995d-1f36f6274c73",
   "metadata": {
    "tags": []
   },
   "source": [
    "### `.get()`"
   ]
  },
  {
   "cell_type": "markdown",
   "id": "4be7a3dd-108b-4692-984a-27c95729f7f5",
   "metadata": {},
   "source": [
    "The `.get()` method allows you to specify a default argument to return in the case that the dictionary contains no information for the given key."
   ]
  },
  {
   "cell_type": "code",
   "execution_count": 50,
   "id": "b5738419-a24f-465b-aa49-74abb3ae15b1",
   "metadata": {},
   "outputs": [
    {
     "ename": "KeyError",
     "evalue": "'London'",
     "output_type": "error",
     "traceback": [
      "\u001b[0;31m---------------------------------------------------------------------------\u001b[0m",
      "\u001b[0;31mKeyError\u001b[0m                                  Traceback (most recent call last)",
      "\u001b[0;32m/wscratch/kwkm645/ipykernel_194988/3930100713.py\u001b[0m in \u001b[0;36m<module>\u001b[0;34m\u001b[0m\n\u001b[0;32m----> 1\u001b[0;31m \u001b[0memployees\u001b[0m\u001b[0;34m[\u001b[0m\u001b[0;34m\"London\"\u001b[0m\u001b[0;34m]\u001b[0m\u001b[0;34m\u001b[0m\u001b[0;34m\u001b[0m\u001b[0m\n\u001b[0m",
      "\u001b[0;31mKeyError\u001b[0m: 'London'"
     ]
    }
   ],
   "source": [
    "employees[\"London\"]"
   ]
  },
  {
   "cell_type": "code",
   "execution_count": 51,
   "id": "981c0651-38aa-4634-980e-79803e2b8053",
   "metadata": {},
   "outputs": [
    {
     "data": {
      "text/plain": [
       "0"
      ]
     },
     "execution_count": 51,
     "metadata": {},
     "output_type": "execute_result"
    }
   ],
   "source": [
    "employees.get(\"London\", 0)"
   ]
  },
  {
   "cell_type": "code",
   "execution_count": 26,
   "id": "f35a2fc4-f443-4dd8-b019-e5329688c8bf",
   "metadata": {},
   "outputs": [],
   "source": [
    "def how_many_employees(location):\n",
    "    print(\"There are \" + str(employees.get(location, 0)) + \" employees in \" + location + \".\")"
   ]
  },
  {
   "cell_type": "code",
   "execution_count": 52,
   "id": "942016b3-fc21-4d17-9823-0dc15906a809",
   "metadata": {},
   "outputs": [
    {
     "name": "stdout",
     "output_type": "stream",
     "text": [
      "There are 3750 employees in Cambridge.\n"
     ]
    }
   ],
   "source": [
    "how_many_employees(\"Cambridge\")"
   ]
  },
  {
   "cell_type": "code",
   "execution_count": 54,
   "id": "c6463501-b43e-48c3-b228-a10acc80a7dc",
   "metadata": {},
   "outputs": [
    {
     "name": "stdout",
     "output_type": "stream",
     "text": [
      "There are 0 employees in Neverland.\n"
     ]
    }
   ],
   "source": [
    "how_many_employees(\"Neverland\")"
   ]
  },
  {
   "cell_type": "code",
   "execution_count": null,
   "id": "1d36640e-81de-4f65-b5ad-89a2fa700636",
   "metadata": {},
   "outputs": [],
   "source": []
  }
 ],
 "metadata": {
  "kernelspec": {
   "display_name": "Python-3.9.5-foss-2021a",
   "language": "python",
   "name": "python-3.9.5-foss-2021a"
  },
  "language_info": {
   "codemirror_mode": {
    "name": "ipython",
    "version": 3
   },
   "file_extension": ".py",
   "mimetype": "text/x-python",
   "name": "python",
   "nbconvert_exporter": "python",
   "pygments_lexer": "ipython3",
   "version": "3.9.5"
  }
 },
 "nbformat": 4,
 "nbformat_minor": 5
}
