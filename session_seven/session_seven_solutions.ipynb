{
 "cells": [
  {
      "cell_type": "markdown",
      "metadata": {
        "id": "view-in-github",
        "colab_type": "text"
      },
      "source": [
        "<a href=\"https://colab.research.google.com/github/rkhetani/beginners-python/blob/master/session_seven/session_seven_solutions.ipynb\" target=\"_parent\"><img src=\"https://colab.research.google.com/assets/colab-badge.svg\" alt=\"Open In Colab\"/></a>"
      ]
  },
  {
   "cell_type": "markdown",
   "id": "edd79ef7-7100-48a9-b513-1da2ab91af62",
   "metadata": {},
   "source": [
    "## Exercise 1"
   ]
  },
  {
   "cell_type": "markdown",
   "id": "fbc307c5-9296-423a-b2f6-b85965ad5fa1",
   "metadata": {},
   "source": [
    "Create a dictionary with some information about you. Try to include at least one value of each of the types integer, string, list and Boolean."
   ]
  },
  {
   "cell_type": "code",
   "execution_count": 1,
   "id": "b340ef41-c5dd-467d-9a05-50ceb3c5d36c",
   "metadata": {},
   "outputs": [],
   "source": [
    "my_info = {\"Name\":\"Jamie\",\n",
    "           \"Age\":26,\n",
    "           \"Lab-based\":False,\n",
    "           \"Work Locations\":[\"Discovery Centre\", \"City House\"]}"
   ]
  },
  {
   "cell_type": "code",
   "execution_count": 2,
   "id": "3e27db1d-7871-4597-a844-62000ac497f1",
   "metadata": {},
   "outputs": [
    {
     "data": {
      "text/plain": [
       "'Discovery Centre'"
      ]
     },
     "execution_count": 2,
     "metadata": {},
     "output_type": "execute_result"
    }
   ],
   "source": [
    "my_info[\"Work Locations\"][0]"
   ]
  },
  {
   "cell_type": "code",
   "execution_count": 3,
   "id": "3abb8bc4-0f36-4d14-9114-941c9212ebe7",
   "metadata": {},
   "outputs": [
    {
     "name": "stdout",
     "output_type": "stream",
     "text": [
      "Hello, my name is Jamie and I am 26 years old.\n"
     ]
    }
   ],
   "source": [
    "print(\"Hello, my name is \" + my_info[\"Name\"] + \" and I am \" + str(my_info[\"Age\"]) + \" years old.\")"
   ]
  },
  {
   "cell_type": "markdown",
   "id": "89bb7f36-83a4-40e6-b7b5-660bfcfa01e1",
   "metadata": {},
   "source": [
    "## Exercise 2"
   ]
  },
  {
   "cell_type": "markdown",
   "id": "24cfb318-4572-46a2-8c72-12d7c910fde1",
   "metadata": {},
   "source": [
    "What do you think the following code will do?\n",
    "\n",
    "` my_dict = {\"x\":1, \"y\":2, \"x\":3} `\n",
    "\n",
    "` my_dict[\"x\"] `"
   ]
  },
  {
   "cell_type": "code",
   "execution_count": 4,
   "id": "d52b415e-05f2-4f8a-a1da-603fd56a78c0",
   "metadata": {},
   "outputs": [
    {
     "data": {
      "text/plain": [
       "3"
      ]
     },
     "execution_count": 4,
     "metadata": {},
     "output_type": "execute_result"
    }
   ],
   "source": [
    "my_dict = {\"x\":1, \"y\":2, \"x\":3}\n",
    "my_dict[\"x\"]"
   ]
  },
  {
   "cell_type": "code",
   "execution_count": 5,
   "id": "13e0b7e1-1ae4-4504-94ac-fe43c64ee95f",
   "metadata": {},
   "outputs": [
    {
     "data": {
      "text/plain": [
       "{'x': 3, 'y': 2}"
      ]
     },
     "execution_count": 5,
     "metadata": {},
     "output_type": "execute_result"
    }
   ],
   "source": [
    "my_dict"
   ]
  },
  {
   "cell_type": "markdown",
   "id": "f4ec08ab-d29e-4abf-8879-a7e6368d128f",
   "metadata": {},
   "source": [
    "## Exercise 3"
   ]
  },
  {
   "cell_type": "code",
   "execution_count": 6,
   "id": "2e79a870-10ba-4456-b81c-e1d50ff3cdd1",
   "metadata": {},
   "outputs": [],
   "source": [
    "def histogram(s):\n",
    "    res = {}\n",
    "    \n",
    "    for letter in s:\n",
    "        if letter in res:\n",
    "            res[letter] += 1\n",
    "        else:\n",
    "            res[letter] = 1\n",
    "    \n",
    "    return res"
   ]
  },
  {
   "cell_type": "code",
   "execution_count": 7,
   "id": "f66f34e3-77b7-4695-9f00-53123624319a",
   "metadata": {},
   "outputs": [
    {
     "data": {
      "text/plain": [
       "{'b': 1,\n",
       " 'e': 2,\n",
       " 'g': 1,\n",
       " 'i': 1,\n",
       " 'n': 3,\n",
       " 'r': 1,\n",
       " 's': 1,\n",
       " ' ': 1,\n",
       " 'p': 1,\n",
       " 'y': 1,\n",
       " 't': 1,\n",
       " 'h': 1,\n",
       " 'o': 1}"
      ]
     },
     "execution_count": 7,
     "metadata": {},
     "output_type": "execute_result"
    }
   ],
   "source": [
    "histogram(\"beginners python\")"
   ]
  },
  {
   "cell_type": "code",
   "execution_count": 8,
   "id": "094b33d0-7152-42af-b162-413d9da2c54c",
   "metadata": {},
   "outputs": [],
   "source": [
    "def histogram(s):\n",
    "    res = {}\n",
    "    \n",
    "    for letter in s:\n",
    "        if letter in res:\n",
    "            res[letter] += 1\n",
    "        else:\n",
    "            res[letter] = 1\n",
    "            \n",
    "    for letter, count in res.items():\n",
    "        print(\"There are \" + str(res[letter]) + \" instances of the letter \" + letter + \".\")       \n",
    "    \n",
    "    return res"
   ]
  },
  {
   "cell_type": "code",
   "execution_count": 9,
   "id": "129d0ef0-aa28-453b-a1d1-6d3541910e8e",
   "metadata": {},
   "outputs": [
    {
     "name": "stdout",
     "output_type": "stream",
     "text": [
      "There are 1 instances of the letter b.\n",
      "There are 2 instances of the letter e.\n",
      "There are 1 instances of the letter g.\n",
      "There are 1 instances of the letter i.\n",
      "There are 3 instances of the letter n.\n",
      "There are 1 instances of the letter r.\n",
      "There are 1 instances of the letter s.\n",
      "There are 1 instances of the letter  .\n",
      "There are 1 instances of the letter p.\n",
      "There are 1 instances of the letter y.\n",
      "There are 1 instances of the letter t.\n",
      "There are 1 instances of the letter h.\n",
      "There are 1 instances of the letter o.\n"
     ]
    },
    {
     "data": {
      "text/plain": [
       "{'b': 1,\n",
       " 'e': 2,\n",
       " 'g': 1,\n",
       " 'i': 1,\n",
       " 'n': 3,\n",
       " 'r': 1,\n",
       " 's': 1,\n",
       " ' ': 1,\n",
       " 'p': 1,\n",
       " 'y': 1,\n",
       " 't': 1,\n",
       " 'h': 1,\n",
       " 'o': 1}"
      ]
     },
     "execution_count": 9,
     "metadata": {},
     "output_type": "execute_result"
    }
   ],
   "source": [
    "histogram(\"beginners python\")"
   ]
  },
  {
   "cell_type": "code",
   "execution_count": 10,
   "id": "114a272f-a1fd-4290-baf5-34c1c8a9bec9",
   "metadata": {},
   "outputs": [],
   "source": [
    "def histogram(s):\n",
    "    res = {}\n",
    "    \n",
    "    for letter in s:\n",
    "        if letter in res:\n",
    "            res[letter] += 1\n",
    "        else:\n",
    "            res[letter] = 1\n",
    "            \n",
    "    for letter, count in res.items():\n",
    "        if count==1:\n",
    "            print(\"There is one instance of the letter \" + letter + \".\")\n",
    "        else:\n",
    "            print(\"There are \" + str(res[letter]) + \" instances of the letter \" + letter + \".\")\n",
    "    \n",
    "    return res"
   ]
  },
  {
   "cell_type": "code",
   "execution_count": 11,
   "id": "c201d0ac-b11f-42c1-b522-5b7542a3295a",
   "metadata": {},
   "outputs": [
    {
     "name": "stdout",
     "output_type": "stream",
     "text": [
      "There is one instance of the letter b.\n",
      "There are 2 instances of the letter e.\n",
      "There is one instance of the letter g.\n",
      "There is one instance of the letter i.\n",
      "There are 3 instances of the letter n.\n",
      "There is one instance of the letter r.\n",
      "There is one instance of the letter s.\n",
      "There is one instance of the letter  .\n",
      "There is one instance of the letter p.\n",
      "There is one instance of the letter y.\n",
      "There is one instance of the letter t.\n",
      "There is one instance of the letter h.\n",
      "There is one instance of the letter o.\n"
     ]
    },
    {
     "data": {
      "text/plain": [
       "{'b': 1,\n",
       " 'e': 2,\n",
       " 'g': 1,\n",
       " 'i': 1,\n",
       " 'n': 3,\n",
       " 'r': 1,\n",
       " 's': 1,\n",
       " ' ': 1,\n",
       " 'p': 1,\n",
       " 'y': 1,\n",
       " 't': 1,\n",
       " 'h': 1,\n",
       " 'o': 1}"
      ]
     },
     "execution_count": 11,
     "metadata": {},
     "output_type": "execute_result"
    }
   ],
   "source": [
    "histogram(\"beginners python\")"
   ]
  },
  {
   "cell_type": "markdown",
   "id": "e7182c96-ec3a-4a70-96dd-d275a7d3e464",
   "metadata": {},
   "source": [
    "## Exercise 4"
   ]
  },
  {
   "cell_type": "code",
   "execution_count": 5,
   "id": "fbee5a2f-85b6-402c-be07-761afd9d4991",
   "metadata": {},
   "outputs": [],
   "source": [
    "def histogram(s):\n",
    "    res = {}\n",
    "    \n",
    "    for letter in s:\n",
    "        res[letter] = res.get(letter, 0) + 1\n",
    "    \n",
    "    return res"
   ]
  },
  {
   "cell_type": "code",
   "execution_count": 13,
   "id": "f7285b4c-76c3-4dad-b1ca-3e4d0c72dcda",
   "metadata": {},
   "outputs": [
    {
     "data": {
      "text/plain": [
       "{'b': 1,\n",
       " 'e': 2,\n",
       " 'g': 1,\n",
       " 'i': 1,\n",
       " 'n': 3,\n",
       " 'r': 1,\n",
       " 's': 1,\n",
       " ' ': 1,\n",
       " 'p': 1,\n",
       " 'y': 1,\n",
       " 't': 1,\n",
       " 'h': 1,\n",
       " 'o': 1}"
      ]
     },
     "execution_count": 13,
     "metadata": {},
     "output_type": "execute_result"
    }
   ],
   "source": [
    "histogram(\"beginners python\")"
   ]
  },
  {
   "cell_type": "markdown",
   "id": "bfba2801-f377-43a0-bd59-5ea2a03be134",
   "metadata": {},
   "source": [
    "## Exercise 5"
   ]
  },
  {
   "cell_type": "code",
   "execution_count": 6,
   "id": "b44a98f3-2ffb-4266-a50d-bc39e843a358",
   "metadata": {},
   "outputs": [],
   "source": [
    "def invert_dict(d):\n",
    "    inverse = dict()\n",
    "    \n",
    "    for key, val in d.items():\n",
    "        \n",
    "        if val not in inverse:\n",
    "            inverse[val] = [key]\n",
    "        else:\n",
    "            inverse[val].append(key)\n",
    "            \n",
    "    return inverse"
   ]
  },
  {
   "cell_type": "code",
   "execution_count": null,
   "id": "67485bd5-e6e6-498f-a42a-6337f5743355",
   "metadata": {},
   "outputs": [
    {
     "data": {
      "text/plain": [
       "{1: ['b', 'g', 'i', 'r', 's', ' ', 'p', 'y', 't', 'h', 'o'],\n",
       " 2: ['e'],\n",
       " 3: ['n']}"
      ]
     },
     "execution_count": 7,
     "metadata": {},
     "output_type": "execute_result"
    }
   ],
   "source": [
    "invert_dict(histogram(\"beginners python\"))"
   ]
  }
 ],
 "metadata": {
  "kernelspec": {
   "display_name": "Python-3.9.5-foss-2021a",
   "language": "python",
   "name": "python-3.9.5-foss-2021a"
  },
  "language_info": {
   "codemirror_mode": {
    "name": "ipython",
    "version": 3
   },
   "file_extension": ".py",
   "mimetype": "text/x-python",
   "name": "python",
   "nbconvert_exporter": "python",
   "pygments_lexer": "ipython3",
   "version": "3.9.5"
  }
 },
 "nbformat": 4,
 "nbformat_minor": 5
}
