{
 "cells": [
  {
   "cell_type": "markdown",
   "metadata": {},
   "source": [
    "<a href=\"https://colab.research.google.com/github/rkhetani/beginners-python/blob/master/session_three/session_three_blank_template.ipynb\" target=\"_parent\"><img src=\"https://colab.research.google.com/assets/colab-badge.svg\" alt=\"Open In Colab\"/></a>"
   ]
  },
  {
   "cell_type": "markdown",
   "metadata": {},
   "source": [
    "<center>Spotted a mistake? Report it <a href=\"https://github.com/THargreaves/beginners-python/issues/new\">here</a></center>"
   ]
  },
  {
   "cell_type": "markdown",
   "metadata": {},
   "source": [
    "# Beginner's Python—Session Three Homework Exercises"
   ]
  },
  {
   "cell_type": "markdown",
   "metadata": {},
   "source": [
    "## Comparisons and Boolean Arithmetic"
   ]
  },
  {
   "cell_type": "markdown",
   "metadata": {},
   "source": [
    "Confirm that applying `or` to two `True` values does indeed return `True`"
   ]
  },
  {
   "cell_type": "code",
   "execution_count": null,
   "metadata": {},
   "outputs": [],
   "source": []
  },
  {
   "cell_type": "markdown",
   "metadata": {},
   "source": [
    "_Note: Creating interesting questions for Boolean variables is difficult since there's not much to them, and so the following questions are a bit more abstract in nature. The first gives a useful application of comparisons for data analysis, and the second offers a way of dealing with the shortcomings of how computers store numbers. Feel free to skip to the next section if you only want to know the bare bones of Python._"
   ]
  },
  {
   "cell_type": "markdown",
   "metadata": {},
   "source": [
    "Create a list of seven numbers called `nums` and find their mean (sum divided by length), saving this in the variable `mean`"
   ]
  },
  {
   "cell_type": "code",
   "execution_count": null,
   "metadata": {},
   "outputs": [],
   "source": []
  },
  {
   "cell_type": "markdown",
   "metadata": {},
   "source": [
    "Run the code below which will calculate the median value of the list (the middle value of the list when they are placed in order)"
   ]
  },
  {
   "cell_type": "code",
   "execution_count": null,
   "metadata": {},
   "outputs": [],
   "source": [
    "median = sorted(nums)[3]"
   ]
  },
  {
   "cell_type": "markdown",
   "metadata": {},
   "source": [
    "Use a Boolean expression to see which of the mean and median is larger"
   ]
  },
  {
   "cell_type": "code",
   "execution_count": null,
   "metadata": {},
   "outputs": [],
   "source": []
  },
  {
   "cell_type": "markdown",
   "metadata": {},
   "source": [
    "A rule-of-thumb for estimating how skewed a collection of numbers is to compare the mean and the median. When the mean is larger than the median then your data is likely positively skewed. For the reverse, a negative skew is more likely. Is your data more positively or negatively skewed?"
   ]
  },
  {
   "cell_type": "markdown",
   "metadata": {},
   "source": [
    "![Skewness](https://upload.wikimedia.org/wikipedia/commons/f/f8/Negative_and_positive_skew_diagrams_%28English%29.svg)"
   ]
  },
  {
   "cell_type": "markdown",
   "metadata": {},
   "source": []
  },
  {
   "cell_type": "markdown",
   "metadata": {},
   "source": [
    "Computers are not able to store decimal numbers with an infinite number of decimal places. This means that as we manipulate decimal numbers, small rounding errors can occur. For example:"
   ]
  },
  {
   "cell_type": "code",
   "execution_count": 5,
   "metadata": {},
   "outputs": [
    {
     "name": "stdout",
     "output_type": "stream",
     "text": [
      "0.9999999999999999\n",
      "False\n"
     ]
    }
   ],
   "source": [
    "print(1 / 49 * 49)\n",
    "print(1 / 49 * 49 == 1)"
   ]
  },
  {
   "cell_type": "markdown",
   "metadata": {},
   "source": [
    "This can be incredibly annoying. We know $\\frac{1}{49} \\times 49$ and $1$ are the same thing yet \"computer says no\". We can get around this by checking that two numbers are near each other, rather than exactly equal. We typically do this by taking the difference of two numbers, making this difference positive using the `abs()` function, and then checking that this postive difference is less than some small tolerance that we set. To warm up, start by using `abs()` on the numbers $1$ and $-1$ to see that it does indeed make any value you pass into it positive"
   ]
  },
  {
   "cell_type": "code",
   "execution_count": null,
   "metadata": {},
   "outputs": [],
   "source": []
  },
  {
   "cell_type": "markdown",
   "metadata": {},
   "source": [
    "Now, use the tolerance defined below to check if $\\frac{1}{49}\\times 49$ and $1$ are indeed the same value (within said tolerance)"
   ]
  },
  {
   "cell_type": "code",
   "execution_count": null,
   "metadata": {},
   "outputs": [],
   "source": [
    "tolerance = 10 ** (-8)  # 0.000000001 - i.e. very small tolerance"
   ]
  },
  {
   "cell_type": "code",
   "execution_count": null,
   "metadata": {},
   "outputs": [],
   "source": []
  },
  {
   "cell_type": "markdown",
   "metadata": {},
   "source": [
    "## Control Flow"
   ]
  },
  {
   "cell_type": "markdown",
   "metadata": {},
   "source": [
    "Ask for user input. If it lies between 8 and 12, print \"Approximately 10\" (if you want to show off, you can do this with one condition using `abs()`)"
   ]
  },
  {
   "cell_type": "code",
   "execution_count": null,
   "metadata": {},
   "outputs": [],
   "source": []
  },
  {
   "cell_type": "markdown",
   "metadata": {},
   "source": [
    "Ask the user whether it will rain, requesting that they answer either \"yes\" or \"no\". If their answer is \"yes\" print \"Better bring an umbrella\", and if it's no print \"That's great to hear\". If they answer anything but these two options, print \"I don't understand\""
   ]
  },
  {
   "cell_type": "code",
   "execution_count": null,
   "metadata": {},
   "outputs": [],
   "source": []
  },
  {
   "cell_type": "markdown",
   "metadata": {},
   "source": [
    "Use `or` twice to check whether a number inputted by the user is one of $6$, $28$, or $496$. If it is, print \"Perfect...\""
   ]
  },
  {
   "cell_type": "code",
   "execution_count": null,
   "metadata": {},
   "outputs": [],
   "source": []
  },
  {
   "cell_type": "markdown",
   "metadata": {},
   "source": [
    "Python has a useful command `in`, which lets you check if a value is in a list. For example, `5 in [4, 5, 6]` will return `True`. Use this to simplify the previous solution"
   ]
  },
  {
   "cell_type": "code",
   "execution_count": null,
   "metadata": {},
   "outputs": [],
   "source": []
  },
  {
   "cell_type": "markdown",
   "metadata": {},
   "source": [
    "Ask the user for a number and store this as a float called `num`. Check whether the number could be stored as an integer by seeing if `num` and `int(num)` have the same value. If so, convert `num` to an integer type. (Recall: running `int()` on a decimal number will round it down to the nearest integer)"
   ]
  },
  {
   "cell_type": "code",
   "execution_count": null,
   "metadata": {},
   "outputs": [],
   "source": []
  },
  {
   "cell_type": "markdown",
   "metadata": {},
   "source": [
    "## While Loops"
   ]
  },
  {
   "cell_type": "markdown",
   "metadata": {},
   "source": [
    "Print the first ten squared numbers (you can either times a number by itself to get a square or use `x ** 2`)"
   ]
  },
  {
   "cell_type": "code",
   "execution_count": null,
   "metadata": {},
   "outputs": [],
   "source": []
  },
  {
   "cell_type": "markdown",
   "metadata": {},
   "source": [
    "Define a string `password` containing a password (not a real one, obviously!). Use a while loop to allow a user, 3 guesses at this password. You might want to keep the number of guesses in a variable called `guesses`, initially set to $0$. You can also use a variable `correct` to keep track of whether they guessed correctly. This should most likely default to `False` and then get set to `True` if they guess correctly"
   ]
  },
  {
   "cell_type": "code",
   "execution_count": null,
   "metadata": {},
   "outputs": [],
   "source": []
  },
  {
   "cell_type": "markdown",
   "metadata": {},
   "source": [
    "The game FizzBuzz goes as follows:\n",
    "\n",
    "* Count up from one\n",
    "* Replace each multiple of 3 with the word \"Fizz\"\n",
    "* Replace each multiple of 5 with the word \"Buzz\"\n",
    "* Replace each multiple of 15 with the word \"FizzBuzz\"\n",
    "* Otherwise, print the number\n",
    "\n",
    "For example, the sequence begins:\n",
    "\n",
    "```\n",
    "1\n",
    "2\n",
    "Fizz\n",
    "4\n",
    "Buzz\n",
    "Fizz\n",
    "7\n",
    "...\n",
    "14\n",
    "FizzBuzz\n",
    "16\n",
    "...\n",
    "```\n",
    "\n",
    "Ask for a user inputted number and place FizzBuzz up to that number. Note you can check if `x` is divible by `y` using `x % y == 0`. For example `5 % 2 == 0` is `False` but `9 % 3` is `True`"
   ]
  },
  {
   "cell_type": "code",
   "execution_count": null,
   "metadata": {},
   "outputs": [],
   "source": []
  },
  {
   "cell_type": "markdown",
   "metadata": {},
   "source": [
    "The Collatz conjecture goes as follows\n",
    "\n",
    "> Take a number $n$. If it is even, halve it, if it is odd, times it by $3$ and add $1$. Repeat this process. You will eventually reach the number $1$\n",
    "\n",
    "We have not proved that this is definitely true but we have good reason to believe it is. Ask for a user inputted starting number and print out the sequence of numbers generated by the Collatz conjecture, stopping when you reach one"
   ]
  },
  {
   "cell_type": "code",
   "execution_count": null,
   "metadata": {},
   "outputs": [],
   "source": []
  },
  {
   "cell_type": "markdown",
   "metadata": {},
   "source": [
    "What is the first power of two to surpass one million? Use a while loop to find out (Hint: start with a variable `n = 1` and set `n = n * 2` at each iteration, stopping when this goes above one million)"
   ]
  },
  {
   "cell_type": "code",
   "execution_count": null,
   "metadata": {},
   "outputs": [],
   "source": []
  }
 ],
 "metadata": {
  "kernelspec": {
   "display_name": "Python 3",
   "language": "python",
   "name": "python3"
  },
  "language_info": {
   "codemirror_mode": {
    "name": "ipython",
    "version": 3
   },
   "file_extension": ".py",
   "mimetype": "text/x-python",
   "name": "python",
   "nbconvert_exporter": "python",
   "pygments_lexer": "ipython3",
   "version": "3.7.3"
  }
 },
 "nbformat": 4,
 "nbformat_minor": 2
}
